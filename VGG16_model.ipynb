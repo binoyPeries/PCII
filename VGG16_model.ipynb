{
  "nbformat": 4,
  "nbformat_minor": 0,
  "metadata": {
    "colab": {
      "name": "VGG16-model.ipynb",
      "provenance": [],
      "collapsed_sections": [],
      "include_colab_link": true
    },
    "kernelspec": {
      "name": "python3",
      "display_name": "Python 3"
    },
    "accelerator": "GPU"
  },
  "cells": [
    {
      "cell_type": "markdown",
      "metadata": {
        "id": "view-in-github",
        "colab_type": "text"
      },
      "source": [
        "<a href=\"https://colab.research.google.com/github/dhaura/PCII/blob/main/VGG16_model_6266.ipynb\" target=\"_parent\"><img src=\"https://colab.research.google.com/assets/colab-badge.svg\" alt=\"Open In Colab\"/></a>"
      ]
    },
    {
      "cell_type": "code",
      "metadata": {
        "id": "WXaXJ-_3AYWQ",
        "colab": {
          "base_uri": "https://localhost:8080/"
        },
        "outputId": "9070814e-76a6-469e-99fa-14ea4ee3bdcf"
      },
      "source": [
        "!wget --no-check-certificate \\\n",
        "  https://datasets.simula.no/kvasir/data/kvasir-dataset-v2.zip\\\n",
        "  -O /tmp/kvasir-dataset-v2.zip"
      ],
      "execution_count": 1,
      "outputs": [
        {
          "output_type": "stream",
          "text": [
            "--2021-03-06 09:28:54--  https://datasets.simula.no/kvasir/data/kvasir-dataset-v2.zip\n",
            "Resolving datasets.simula.no (datasets.simula.no)... 128.39.36.14\n",
            "Connecting to datasets.simula.no (datasets.simula.no)|128.39.36.14|:443... connected.\n",
            "HTTP request sent, awaiting response... 200 OK\n",
            "Length: 2489312085 (2.3G) [application/zip]\n",
            "Saving to: ‘/tmp/kvasir-dataset-v2.zip’\n",
            "\n",
            "/tmp/kvasir-dataset 100%[===================>]   2.32G  7.24MB/s    in 9m 11s  \n",
            "\n",
            "2021-03-06 09:38:05 (4.31 MB/s) - ‘/tmp/kvasir-dataset-v2.zip’ saved [2489312085/2489312085]\n",
            "\n"
          ],
          "name": "stdout"
        }
      ]
    },
    {
      "cell_type": "code",
      "metadata": {
        "id": "0syzanC8Af9t"
      },
      "source": [
        "import os\n",
        "import zipfile\n",
        "\n",
        "local_zip = '/tmp/kvasir-dataset-v2.zip'\n",
        "\n",
        "zip_ref = zipfile.ZipFile(local_zip, 'r')\n",
        "\n",
        "zip_ref.extractall('/tmp')\n",
        "zip_ref.close()"
      ],
      "execution_count": 2,
      "outputs": []
    },
    {
      "cell_type": "code",
      "metadata": {
        "id": "FFUeRxF9AiPh"
      },
      "source": [
        "try:\n",
        "    os.mkdir('/tmp/kvasir-dataset-e-v2')\n",
        "    os.mkdir('/tmp/kvasir-dataset-e-v2/training')\n",
        "    os.mkdir('/tmp/kvasir-dataset-e-v2/testing')\n",
        "    os.mkdir('/tmp/kvasir-dataset-e-v2/training/dyed-lifted-polyps')\n",
        "    os.mkdir('/tmp/kvasir-dataset-e-v2/training/dyed-resection-margins')\n",
        "    os.mkdir('/tmp/kvasir-dataset-e-v2/training/esophagitis')\n",
        "    os.mkdir('/tmp/kvasir-dataset-e-v2/training/normal-cecum')\n",
        "    os.mkdir('/tmp/kvasir-dataset-e-v2/training/normal-pylorus')\n",
        "    os.mkdir('/tmp/kvasir-dataset-e-v2/training/normal-z-line')\n",
        "    os.mkdir('/tmp/kvasir-dataset-e-v2/training/polyps')\n",
        "    os.mkdir('/tmp/kvasir-dataset-e-v2/training/ulcerative-colitis')\n",
        "    os.mkdir('/tmp/kvasir-dataset-e-v2/testing/dyed-lifted-polyps')\n",
        "    os.mkdir('/tmp/kvasir-dataset-e-v2/testing/dyed-resection-margins')\n",
        "    os.mkdir('/tmp/kvasir-dataset-e-v2/testing/esophagitis')\n",
        "    os.mkdir('/tmp/kvasir-dataset-e-v2/testing/normal-cecum')\n",
        "    os.mkdir('/tmp/kvasir-dataset-e-v2/testing/normal-pylorus')\n",
        "    os.mkdir('/tmp/kvasir-dataset-e-v2/testing/normal-z-line')\n",
        "    os.mkdir('/tmp/kvasir-dataset-e-v2/testing/polyps')\n",
        "    os.mkdir('/tmp/kvasir-dataset-e-v2/testing/ulcerative-colitis')\n",
        "except OSError:\n",
        "    pass"
      ],
      "execution_count": 3,
      "outputs": []
    },
    {
      "cell_type": "code",
      "metadata": {
        "id": "cYohnLQHAmvN"
      },
      "source": [
        "import random\n",
        "import shutil\n",
        "from shutil import copyfile\n",
        "\n",
        "def split_data(SOURCE, TRAINING, TESTING, SPLIT_SIZE):\n",
        "    selected_images = []\n",
        "    \n",
        "    for image in os.listdir(SOURCE):\n",
        "        image_path = SOURCE + image\n",
        "        if (os.path.getsize(image_path) > 0):\n",
        "            selected_images.append(image)\n",
        "    \n",
        "    shuffled_images = random.sample(selected_images, len(selected_images))\n",
        "    \n",
        "    len_train_images = int(len(selected_images) * SPLIT_SIZE)\n",
        "    \n",
        "    for image in shuffled_images[0:len_train_images]:\n",
        "        copyfile(SOURCE+image, TRAINING+image)\n",
        "    \n",
        "    for image in shuffled_images[len_train_images:]:\n",
        "        copyfile(SOURCE+image, TESTING+image)"
      ],
      "execution_count": 4,
      "outputs": []
    },
    {
      "cell_type": "code",
      "metadata": {
        "id": "aw6X6WhjAnVV"
      },
      "source": [
        "split_size = .8\n",
        "split_data('/tmp/kvasir-dataset-v2/dyed-lifted-polyps/', '/tmp/kvasir-dataset-e-v2/training/dyed-lifted-polyps/', '/tmp/kvasir-dataset-e-v2/testing/dyed-lifted-polyps/', split_size)\n",
        "split_data('/tmp/kvasir-dataset-v2/dyed-resection-margins/', '/tmp/kvasir-dataset-e-v2/training/dyed-resection-margins/', '/tmp/kvasir-dataset-e-v2/testing/dyed-resection-margins/', split_size)\n",
        "split_data('/tmp/kvasir-dataset-v2/esophagitis/', '/tmp/kvasir-dataset-e-v2/training/esophagitis/', '/tmp/kvasir-dataset-e-v2/testing/esophagitis/', split_size)\n",
        "split_data('/tmp/kvasir-dataset-v2/normal-cecum/', '/tmp/kvasir-dataset-e-v2/training/normal-cecum/', '/tmp/kvasir-dataset-e-v2/testing/normal-cecum/', split_size)\n",
        "split_data('/tmp/kvasir-dataset-v2/normal-pylorus/', '/tmp/kvasir-dataset-e-v2/training/normal-pylorus/', '/tmp/kvasir-dataset-e-v2/testing/normal-pylorus/', split_size)\n",
        "split_data('/tmp/kvasir-dataset-v2/normal-z-line/', '/tmp/kvasir-dataset-e-v2/training/normal-z-line/', '/tmp/kvasir-dataset-e-v2/testing/normal-z-line/', split_size)\n",
        "split_data('/tmp/kvasir-dataset-v2/polyps/', '/tmp/kvasir-dataset-e-v2/training/polyps/', '/tmp/kvasir-dataset-e-v2/testing/polyps/', split_size)\n",
        "split_data('/tmp/kvasir-dataset-v2/ulcerative-colitis/', '/tmp/kvasir-dataset-e-v2/training/ulcerative-colitis/', '/tmp/kvasir-dataset-e-v2/testing/ulcerative-colitis/', split_size)"
      ],
      "execution_count": 5,
      "outputs": []
    },
    {
      "cell_type": "code",
      "metadata": {
        "id": "rBW0B6uTAtlI"
      },
      "source": [
        "import tensorflow as tf\n",
        "from tensorflow.keras.optimizers import RMSprop\n",
        "from tensorflow.keras.preprocessing.image import ImageDataGenerator\n",
        "from tensorflow.keras import applications"
      ],
      "execution_count": 6,
      "outputs": []
    },
    {
      "cell_type": "code",
      "metadata": {
        "id": "JHcXAP15AuNN",
        "colab": {
          "base_uri": "https://localhost:8080/"
        },
        "outputId": "293962df-4392-4503-a22b-5b27c2bab239"
      },
      "source": [
        "base_dir = '/tmp/kvasir-dataset-e-v2'\n",
        "\n",
        "train_dir = os.path.join(base_dir, 'training')\n",
        "validation_dir = os.path.join(base_dir, 'testing')\n",
        "\n",
        "train_datagen = ImageDataGenerator(\n",
        "    rescale=1./255,\n",
        "    rotation_range=40,\n",
        "    width_shift_range=0.2,\n",
        "    height_shift_range=0.2,\n",
        "    shear_range=0.2,\n",
        "    zoom_range=0.2,\n",
        "    horizontal_flip=True,\n",
        "    fill_mode='nearest'\n",
        ")\n",
        "\n",
        "train_generator = train_datagen.flow_from_directory(\n",
        "    train_dir,\n",
        "    target_size=(224,224),\n",
        "    batch_size=128,\n",
        "    class_mode='categorical'\n",
        ")\n",
        "\n",
        "validation_datagen = ImageDataGenerator(rescale=1./255)\n",
        "\n",
        "validation_generator = validation_datagen.flow_from_directory(\n",
        "    validation_dir,\n",
        "    target_size=(224,224),\n",
        "    batch_size=128,\n",
        "    class_mode='categorical'\n",
        ")"
      ],
      "execution_count": 7,
      "outputs": [
        {
          "output_type": "stream",
          "text": [
            "Found 6400 images belonging to 8 classes.\n",
            "Found 1600 images belonging to 8 classes.\n"
          ],
          "name": "stdout"
        }
      ]
    },
    {
      "cell_type": "code",
      "metadata": {
        "id": "UzIP-lKEA_6L",
        "colab": {
          "base_uri": "https://localhost:8080/"
        },
        "outputId": "198c37b1-5afa-4f14-f82b-809124e9c9fc"
      },
      "source": [
        "# local_weights_file = 'inception_v3_weights_tf_dim_ordering_tf_kernels_notop.h5'\n",
        "model = applications.VGG16(weights = \"imagenet\", include_top=False, input_shape = (224, 224, 3))\n",
        "\n",
        "# pre_trained_model.load_weights(local_weights_file)\n",
        "\n",
        "for layer in model.layers:\n",
        "    layer.trainable = False\n",
        "\n",
        "model.summary()\n",
        "\n"
      ],
      "execution_count": 8,
      "outputs": [
        {
          "output_type": "stream",
          "text": [
            "Downloading data from https://storage.googleapis.com/tensorflow/keras-applications/vgg16/vgg16_weights_tf_dim_ordering_tf_kernels_notop.h5\n",
            "58892288/58889256 [==============================] - 0s 0us/step\n",
            "Model: \"vgg16\"\n",
            "_________________________________________________________________\n",
            "Layer (type)                 Output Shape              Param #   \n",
            "=================================================================\n",
            "input_1 (InputLayer)         [(None, 224, 224, 3)]     0         \n",
            "_________________________________________________________________\n",
            "block1_conv1 (Conv2D)        (None, 224, 224, 64)      1792      \n",
            "_________________________________________________________________\n",
            "block1_conv2 (Conv2D)        (None, 224, 224, 64)      36928     \n",
            "_________________________________________________________________\n",
            "block1_pool (MaxPooling2D)   (None, 112, 112, 64)      0         \n",
            "_________________________________________________________________\n",
            "block2_conv1 (Conv2D)        (None, 112, 112, 128)     73856     \n",
            "_________________________________________________________________\n",
            "block2_conv2 (Conv2D)        (None, 112, 112, 128)     147584    \n",
            "_________________________________________________________________\n",
            "block2_pool (MaxPooling2D)   (None, 56, 56, 128)       0         \n",
            "_________________________________________________________________\n",
            "block3_conv1 (Conv2D)        (None, 56, 56, 256)       295168    \n",
            "_________________________________________________________________\n",
            "block3_conv2 (Conv2D)        (None, 56, 56, 256)       590080    \n",
            "_________________________________________________________________\n",
            "block3_conv3 (Conv2D)        (None, 56, 56, 256)       590080    \n",
            "_________________________________________________________________\n",
            "block3_pool (MaxPooling2D)   (None, 28, 28, 256)       0         \n",
            "_________________________________________________________________\n",
            "block4_conv1 (Conv2D)        (None, 28, 28, 512)       1180160   \n",
            "_________________________________________________________________\n",
            "block4_conv2 (Conv2D)        (None, 28, 28, 512)       2359808   \n",
            "_________________________________________________________________\n",
            "block4_conv3 (Conv2D)        (None, 28, 28, 512)       2359808   \n",
            "_________________________________________________________________\n",
            "block4_pool (MaxPooling2D)   (None, 14, 14, 512)       0         \n",
            "_________________________________________________________________\n",
            "block5_conv1 (Conv2D)        (None, 14, 14, 512)       2359808   \n",
            "_________________________________________________________________\n",
            "block5_conv2 (Conv2D)        (None, 14, 14, 512)       2359808   \n",
            "_________________________________________________________________\n",
            "block5_conv3 (Conv2D)        (None, 14, 14, 512)       2359808   \n",
            "_________________________________________________________________\n",
            "block5_pool (MaxPooling2D)   (None, 7, 7, 512)         0         \n",
            "=================================================================\n",
            "Total params: 14,714,688\n",
            "Trainable params: 0\n",
            "Non-trainable params: 14,714,688\n",
            "_________________________________________________________________\n"
          ],
          "name": "stdout"
        }
      ]
    },
    {
      "cell_type": "code",
      "metadata": {
        "id": "BzYrNaNFBO1t"
      },
      "source": [
        "from tensorflow.keras import optimizers\n",
        "for layer in model.layers[:20]:\n",
        "    layer.trainable = True\n",
        "x = model.output\n",
        "x =  tf.keras.layers.Flatten()(x)\n",
        "x = tf.keras.layers.Dense(1024, activation=\"relu\")(x)\n",
        "x = tf.keras.layers.Dropout(0.5)(x)\n",
        "x = tf.keras.layers.Dense(1024, activation=\"relu\")(x)\n",
        "predictions = tf.keras.layers.Dense(8, activation=\"softmax\")(x)   \n",
        "model_final = tf.keras.models.Model(model.input,predictions)\n",
        "model_final.compile(loss = \"categorical_crossentropy\", optimizer = optimizers.SGD(lr=0.0001, momentum=0.9), metrics=[\"accuracy\"])"
      ],
      "execution_count": 12,
      "outputs": []
    },
    {
      "cell_type": "code",
      "metadata": {
        "colab": {
          "base_uri": "https://localhost:8080/"
        },
        "id": "uVI9N1OLIxUR",
        "outputId": "5c8d2c8e-a9cb-4f9e-ad4f-298f4e174bc8"
      },
      "source": [
        "model_final.summary()"
      ],
      "execution_count": 13,
      "outputs": [
        {
          "output_type": "stream",
          "text": [
            "Model: \"model_1\"\n",
            "_________________________________________________________________\n",
            "Layer (type)                 Output Shape              Param #   \n",
            "=================================================================\n",
            "input_1 (InputLayer)         [(None, 224, 224, 3)]     0         \n",
            "_________________________________________________________________\n",
            "block1_conv1 (Conv2D)        (None, 224, 224, 64)      1792      \n",
            "_________________________________________________________________\n",
            "block1_conv2 (Conv2D)        (None, 224, 224, 64)      36928     \n",
            "_________________________________________________________________\n",
            "block1_pool (MaxPooling2D)   (None, 112, 112, 64)      0         \n",
            "_________________________________________________________________\n",
            "block2_conv1 (Conv2D)        (None, 112, 112, 128)     73856     \n",
            "_________________________________________________________________\n",
            "block2_conv2 (Conv2D)        (None, 112, 112, 128)     147584    \n",
            "_________________________________________________________________\n",
            "block2_pool (MaxPooling2D)   (None, 56, 56, 128)       0         \n",
            "_________________________________________________________________\n",
            "block3_conv1 (Conv2D)        (None, 56, 56, 256)       295168    \n",
            "_________________________________________________________________\n",
            "block3_conv2 (Conv2D)        (None, 56, 56, 256)       590080    \n",
            "_________________________________________________________________\n",
            "block3_conv3 (Conv2D)        (None, 56, 56, 256)       590080    \n",
            "_________________________________________________________________\n",
            "block3_pool (MaxPooling2D)   (None, 28, 28, 256)       0         \n",
            "_________________________________________________________________\n",
            "block4_conv1 (Conv2D)        (None, 28, 28, 512)       1180160   \n",
            "_________________________________________________________________\n",
            "block4_conv2 (Conv2D)        (None, 28, 28, 512)       2359808   \n",
            "_________________________________________________________________\n",
            "block4_conv3 (Conv2D)        (None, 28, 28, 512)       2359808   \n",
            "_________________________________________________________________\n",
            "block4_pool (MaxPooling2D)   (None, 14, 14, 512)       0         \n",
            "_________________________________________________________________\n",
            "block5_conv1 (Conv2D)        (None, 14, 14, 512)       2359808   \n",
            "_________________________________________________________________\n",
            "block5_conv2 (Conv2D)        (None, 14, 14, 512)       2359808   \n",
            "_________________________________________________________________\n",
            "block5_conv3 (Conv2D)        (None, 14, 14, 512)       2359808   \n",
            "_________________________________________________________________\n",
            "block5_pool (MaxPooling2D)   (None, 7, 7, 512)         0         \n",
            "_________________________________________________________________\n",
            "flatten_1 (Flatten)          (None, 25088)             0         \n",
            "_________________________________________________________________\n",
            "dense_3 (Dense)              (None, 1024)              25691136  \n",
            "_________________________________________________________________\n",
            "dropout_1 (Dropout)          (None, 1024)              0         \n",
            "_________________________________________________________________\n",
            "dense_4 (Dense)              (None, 1024)              1049600   \n",
            "_________________________________________________________________\n",
            "dense_5 (Dense)              (None, 8)                 8200      \n",
            "=================================================================\n",
            "Total params: 41,463,624\n",
            "Trainable params: 41,463,624\n",
            "Non-trainable params: 0\n",
            "_________________________________________________________________\n"
          ],
          "name": "stdout"
        }
      ]
    },
    {
      "cell_type": "code",
      "metadata": {
        "id": "I_44BBdWBe-d",
        "colab": {
          "base_uri": "https://localhost:8080/"
        },
        "outputId": "72ea5ddd-19ab-4161-d765-9fd2c41e6a18"
      },
      "source": [
        "history = model_final.fit_generator(\n",
        "            train_generator,\n",
        "            validation_data = validation_generator,\n",
        "            steps_per_epoch = 5,\n",
        "            epochs = 50,\n",
        "            validation_steps = 5,\n",
        "            verbose = 1)"
      ],
      "execution_count": 14,
      "outputs": [
        {
          "output_type": "stream",
          "text": [
            "/usr/local/lib/python3.7/dist-packages/tensorflow/python/keras/engine/training.py:1844: UserWarning: `Model.fit_generator` is deprecated and will be removed in a future version. Please use `Model.fit`, which supports generators.\n",
            "  warnings.warn('`Model.fit_generator` is deprecated and '\n"
          ],
          "name": "stderr"
        },
        {
          "output_type": "stream",
          "text": [
            "Epoch 1/50\n",
            "5/5 [==============================] - 36s 8s/step - loss: 2.2188 - accuracy: 0.1610 - val_loss: 2.1231 - val_accuracy: 0.1500\n",
            "Epoch 2/50\n",
            "5/5 [==============================] - 33s 7s/step - loss: 2.2512 - accuracy: 0.1252 - val_loss: 2.0676 - val_accuracy: 0.1625\n",
            "Epoch 3/50\n",
            "5/5 [==============================] - 33s 7s/step - loss: 2.1513 - accuracy: 0.1673 - val_loss: 2.0634 - val_accuracy: 0.1516\n",
            "Epoch 4/50\n",
            "5/5 [==============================] - 33s 7s/step - loss: 2.1310 - accuracy: 0.1411 - val_loss: 2.0592 - val_accuracy: 0.1719\n",
            "Epoch 5/50\n",
            "5/5 [==============================] - 33s 7s/step - loss: 2.1081 - accuracy: 0.1551 - val_loss: 2.0364 - val_accuracy: 0.1906\n",
            "Epoch 6/50\n",
            "5/5 [==============================] - 33s 7s/step - loss: 2.1069 - accuracy: 0.1692 - val_loss: 2.0059 - val_accuracy: 0.1969\n",
            "Epoch 7/50\n",
            "5/5 [==============================] - 33s 7s/step - loss: 2.0807 - accuracy: 0.1721 - val_loss: 1.9720 - val_accuracy: 0.2469\n",
            "Epoch 8/50\n",
            "5/5 [==============================] - 33s 7s/step - loss: 2.0593 - accuracy: 0.1847 - val_loss: 1.9505 - val_accuracy: 0.3172\n",
            "Epoch 9/50\n",
            "5/5 [==============================] - 32s 7s/step - loss: 2.0591 - accuracy: 0.1717 - val_loss: 1.9342 - val_accuracy: 0.3203\n",
            "Epoch 10/50\n",
            "5/5 [==============================] - 33s 7s/step - loss: 2.0323 - accuracy: 0.1944 - val_loss: 1.9142 - val_accuracy: 0.3156\n",
            "Epoch 11/50\n",
            "5/5 [==============================] - 33s 7s/step - loss: 2.0105 - accuracy: 0.1923 - val_loss: 1.8968 - val_accuracy: 0.3156\n",
            "Epoch 12/50\n",
            "5/5 [==============================] - 32s 7s/step - loss: 1.9857 - accuracy: 0.2071 - val_loss: 1.8719 - val_accuracy: 0.3187\n",
            "Epoch 13/50\n",
            "5/5 [==============================] - 33s 7s/step - loss: 1.9772 - accuracy: 0.2274 - val_loss: 1.8335 - val_accuracy: 0.3625\n",
            "Epoch 14/50\n",
            "5/5 [==============================] - 32s 7s/step - loss: 1.9557 - accuracy: 0.2305 - val_loss: 1.8169 - val_accuracy: 0.3500\n",
            "Epoch 15/50\n",
            "5/5 [==============================] - 32s 7s/step - loss: 1.9385 - accuracy: 0.2256 - val_loss: 1.7854 - val_accuracy: 0.3187\n",
            "Epoch 16/50\n",
            "5/5 [==============================] - 33s 7s/step - loss: 1.9157 - accuracy: 0.2314 - val_loss: 1.7588 - val_accuracy: 0.3313\n",
            "Epoch 17/50\n",
            "5/5 [==============================] - 32s 7s/step - loss: 1.8494 - accuracy: 0.2891 - val_loss: 1.7138 - val_accuracy: 0.3297\n",
            "Epoch 18/50\n",
            "5/5 [==============================] - 32s 7s/step - loss: 1.8122 - accuracy: 0.3242 - val_loss: 1.6770 - val_accuracy: 0.3625\n",
            "Epoch 19/50\n",
            "5/5 [==============================] - 33s 7s/step - loss: 1.7592 - accuracy: 0.3593 - val_loss: 1.6125 - val_accuracy: 0.4187\n",
            "Epoch 20/50\n",
            "5/5 [==============================] - 33s 7s/step - loss: 1.7724 - accuracy: 0.2884 - val_loss: 1.5930 - val_accuracy: 0.3953\n",
            "Epoch 21/50\n",
            "5/5 [==============================] - 33s 7s/step - loss: 1.7132 - accuracy: 0.3558 - val_loss: 1.5524 - val_accuracy: 0.3891\n",
            "Epoch 22/50\n",
            "5/5 [==============================] - 33s 7s/step - loss: 1.6853 - accuracy: 0.3318 - val_loss: 1.5050 - val_accuracy: 0.3766\n",
            "Epoch 23/50\n",
            "5/5 [==============================] - 32s 7s/step - loss: 1.6081 - accuracy: 0.3862 - val_loss: 1.4795 - val_accuracy: 0.4109\n",
            "Epoch 24/50\n",
            "5/5 [==============================] - 33s 7s/step - loss: 1.6058 - accuracy: 0.3324 - val_loss: 1.4360 - val_accuracy: 0.3906\n",
            "Epoch 25/50\n",
            "5/5 [==============================] - 32s 7s/step - loss: 1.5487 - accuracy: 0.3550 - val_loss: 1.3867 - val_accuracy: 0.4250\n",
            "Epoch 26/50\n",
            "5/5 [==============================] - 33s 7s/step - loss: 1.5327 - accuracy: 0.3817 - val_loss: 1.3452 - val_accuracy: 0.4500\n",
            "Epoch 27/50\n",
            "5/5 [==============================] - 33s 7s/step - loss: 1.4522 - accuracy: 0.4095 - val_loss: 1.3181 - val_accuracy: 0.4547\n",
            "Epoch 28/50\n",
            "5/5 [==============================] - 32s 7s/step - loss: 1.4588 - accuracy: 0.3823 - val_loss: 1.2623 - val_accuracy: 0.4625\n",
            "Epoch 29/50\n",
            "5/5 [==============================] - 32s 7s/step - loss: 1.4068 - accuracy: 0.4043 - val_loss: 1.2417 - val_accuracy: 0.4563\n",
            "Epoch 30/50\n",
            "5/5 [==============================] - 33s 7s/step - loss: 1.4004 - accuracy: 0.4162 - val_loss: 1.1954 - val_accuracy: 0.4578\n",
            "Epoch 31/50\n",
            "5/5 [==============================] - 32s 7s/step - loss: 1.3784 - accuracy: 0.4128 - val_loss: 1.1647 - val_accuracy: 0.4859\n",
            "Epoch 32/50\n",
            "5/5 [==============================] - 33s 7s/step - loss: 1.3653 - accuracy: 0.4093 - val_loss: 1.1355 - val_accuracy: 0.5078\n",
            "Epoch 33/50\n",
            "5/5 [==============================] - 33s 7s/step - loss: 1.3744 - accuracy: 0.4342 - val_loss: 1.0985 - val_accuracy: 0.5094\n",
            "Epoch 34/50\n",
            "5/5 [==============================] - 33s 7s/step - loss: 1.3281 - accuracy: 0.4354 - val_loss: 1.0668 - val_accuracy: 0.5156\n",
            "Epoch 35/50\n",
            "5/5 [==============================] - 32s 7s/step - loss: 1.2888 - accuracy: 0.4171 - val_loss: 1.0939 - val_accuracy: 0.5156\n",
            "Epoch 36/50\n",
            "5/5 [==============================] - 33s 7s/step - loss: 1.3008 - accuracy: 0.4163 - val_loss: 1.0413 - val_accuracy: 0.5953\n",
            "Epoch 37/50\n",
            "5/5 [==============================] - 32s 7s/step - loss: 1.3122 - accuracy: 0.3956 - val_loss: 1.0457 - val_accuracy: 0.5625\n",
            "Epoch 38/50\n",
            "5/5 [==============================] - 32s 7s/step - loss: 1.2235 - accuracy: 0.4481 - val_loss: 0.9770 - val_accuracy: 0.6375\n",
            "Epoch 39/50\n",
            "5/5 [==============================] - 33s 7s/step - loss: 1.2145 - accuracy: 0.4483 - val_loss: 1.0380 - val_accuracy: 0.5703\n",
            "Epoch 40/50\n",
            "5/5 [==============================] - 34s 7s/step - loss: 1.1914 - accuracy: 0.4702 - val_loss: 0.9607 - val_accuracy: 0.6203\n",
            "Epoch 41/50\n",
            "5/5 [==============================] - 33s 7s/step - loss: 1.2365 - accuracy: 0.4617 - val_loss: 1.0087 - val_accuracy: 0.5953\n",
            "Epoch 42/50\n",
            "5/5 [==============================] - 34s 7s/step - loss: 1.1650 - accuracy: 0.4706 - val_loss: 0.8878 - val_accuracy: 0.6344\n",
            "Epoch 43/50\n",
            "5/5 [==============================] - 33s 7s/step - loss: 1.1768 - accuracy: 0.4844 - val_loss: 0.8791 - val_accuracy: 0.6578\n",
            "Epoch 44/50\n",
            "5/5 [==============================] - 32s 7s/step - loss: 1.1394 - accuracy: 0.4955 - val_loss: 0.9459 - val_accuracy: 0.6297\n",
            "Epoch 45/50\n",
            "5/5 [==============================] - 32s 7s/step - loss: 1.0947 - accuracy: 0.5508 - val_loss: 0.9181 - val_accuracy: 0.6266\n",
            "Epoch 46/50\n",
            "5/5 [==============================] - 33s 7s/step - loss: 1.1369 - accuracy: 0.5145 - val_loss: 0.9070 - val_accuracy: 0.6406\n",
            "Epoch 47/50\n",
            "5/5 [==============================] - 33s 7s/step - loss: 1.0708 - accuracy: 0.5604 - val_loss: 0.8731 - val_accuracy: 0.6625\n",
            "Epoch 48/50\n",
            "5/5 [==============================] - 33s 7s/step - loss: 1.0643 - accuracy: 0.5122 - val_loss: 0.8299 - val_accuracy: 0.6703\n",
            "Epoch 49/50\n",
            "5/5 [==============================] - 33s 7s/step - loss: 1.0632 - accuracy: 0.5417 - val_loss: 0.8817 - val_accuracy: 0.6438\n",
            "Epoch 50/50\n",
            "5/5 [==============================] - 33s 7s/step - loss: 1.1104 - accuracy: 0.5348 - val_loss: 0.8478 - val_accuracy: 0.6266\n"
          ],
          "name": "stdout"
        }
      ]
    },
    {
      "cell_type": "code",
      "metadata": {
        "id": "gRX7iKoyB3D9",
        "colab": {
          "base_uri": "https://localhost:8080/",
          "height": 298
        },
        "outputId": "9fa03b1c-d9f3-43dd-887d-9d0cc8576572"
      },
      "source": [
        "\n",
        "\n",
        "import matplotlib.pyplot as plt\n",
        "acc = history.history['accuracy']\n",
        "val_acc = history.history['val_accuracy']\n",
        "loss = history.history['loss']\n",
        "val_loss = history.history['val_loss']\n",
        "\n",
        "epochs = range(len(acc))\n",
        "\n",
        "plt.plot(epochs, acc, 'r', label='Training accuracy')\n",
        "plt.plot(epochs, val_acc, 'b', label='Validation accuracy')\n",
        "plt.title('Training and validation accuracy')\n",
        "plt.legend(loc=0)\n",
        "plt.figure()\n",
        "\n",
        "\n",
        "plt.show()"
      ],
      "execution_count": 15,
      "outputs": [
        {
          "output_type": "display_data",
          "data": {
            "image/png": "[encoded data removed]",
            "text/plain": [
              "<Figure size 432x288 with 1 Axes>"
            ]
          },
          "metadata": {
            "tags": [],
            "needs_background": "light"
          }
        },
        {
          "output_type": "display_data",
          "data": {
            "text/plain": [
              "<Figure size 432x288 with 0 Axes>"
            ]
          },
          "metadata": {
            "tags": []
          }
        }
      ]
    }
  ]
}
