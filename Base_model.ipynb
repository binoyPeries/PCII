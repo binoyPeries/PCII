{
  "nbformat": 4,
  "nbformat_minor": 0,
  "metadata": {
    "colab": {
      "name": "GI-Tract-Anomalies-version-1.0.ipynb",
      "provenance": [],
      "include_colab_link": true
    },
    "kernelspec": {
      "display_name": "Python 3",
      "name": "python3"
    },
    "accelerator": "GPU"
  },
  "cells": [
    {
      "cell_type": "markdown",
      "metadata": {
        "id": "view-in-github",
        "colab_type": "text"
      },
      "source": [
        "<a href=\"https://colab.research.google.com/github/dhaura/PCII/blob/main/Base_model.ipynb\" target=\"_parent\"><img src=\"https://colab.research.google.com/assets/colab-badge.svg\" alt=\"Open In Colab\"/></a>"
      ]
    },
    {
      "cell_type": "code",
      "metadata": {
        "colab": {
          "base_uri": "https://localhost:8080/"
        },
        "id": "isR_Ihm78RJ1",
        "outputId": "443e82c1-8940-41a2-9470-5be698a4414c"
      },
      "source": [
        "!wget --no-check-certificate \\\n",
        "  https://datasets.simula.no/kvasir/data/kvasir-dataset-v2.zip\\\n",
        "  -O /tmp/kvasir-dataset-v2.zip"
      ],
      "execution_count": null,
      "outputs": [
        {
          "output_type": "stream",
          "text": [
            "--2021-03-06 09:38:33--  https://datasets.simula.no/kvasir/data/kvasir-dataset-v2.zip\n",
            "Resolving datasets.simula.no (datasets.simula.no)... 128.39.36.14\n",
            "Connecting to datasets.simula.no (datasets.simula.no)|128.39.36.14|:443... connected.\n",
            "HTTP request sent, awaiting response... 200 OK\n",
            "Length: 2489312085 (2.3G) [application/zip]\n",
            "Saving to: ‘/tmp/kvasir-dataset-v2.zip’\n",
            "\n",
            "/tmp/kvasir-dataset 100%[===================>]   2.32G  11.2MB/s    in 2m 4s   \n",
            "\n",
            "2021-03-06 09:40:37 (19.2 MB/s) - ‘/tmp/kvasir-dataset-v2.zip’ saved [2489312085/2489312085]\n",
            "\n"
          ],
          "name": "stdout"
        }
      ]
    },
    {
      "cell_type": "code",
      "metadata": {
        "id": "XFQ6mwuY9Ph0"
      },
      "source": [
        "import os\n",
        "import zipfile\n",
        "\n",
        "local_zip = '/tmp/kvasir-dataset-v2.zip'\n",
        "\n",
        "zip_ref = zipfile.ZipFile(local_zip, 'r')\n",
        "\n",
        "zip_ref.extractall('/tmp')\n",
        "zip_ref.close()"
      ],
      "execution_count": null,
      "outputs": []
    },
    {
      "cell_type": "code",
      "metadata": {
        "id": "Z5UaW0fP-Lm0"
      },
      "source": [
        "try:\n",
        "    os.mkdir('/tmp/kvasir-dataset-e-v2')\n",
        "    os.mkdir('/tmp/kvasir-dataset-e-v2/training')\n",
        "    os.mkdir('/tmp/kvasir-dataset-e-v2/testing')\n",
        "    os.mkdir('/tmp/kvasir-dataset-e-v2/training/dyed-lifted-polyps')\n",
        "    os.mkdir('/tmp/kvasir-dataset-e-v2/training/dyed-resection-margins')\n",
        "    os.mkdir('/tmp/kvasir-dataset-e-v2/training/esophagitis')\n",
        "    os.mkdir('/tmp/kvasir-dataset-e-v2/training/normal-cecum')\n",
        "    os.mkdir('/tmp/kvasir-dataset-e-v2/training/normal-pylorus')\n",
        "    os.mkdir('/tmp/kvasir-dataset-e-v2/training/normal-z-line')\n",
        "    os.mkdir('/tmp/kvasir-dataset-e-v2/training/polyps')\n",
        "    os.mkdir('/tmp/kvasir-dataset-e-v2/training/ulcerative-colitis')\n",
        "    os.mkdir('/tmp/kvasir-dataset-e-v2/testing/dyed-lifted-polyps')\n",
        "    os.mkdir('/tmp/kvasir-dataset-e-v2/testing/dyed-resection-margins')\n",
        "    os.mkdir('/tmp/kvasir-dataset-e-v2/testing/esophagitis')\n",
        "    os.mkdir('/tmp/kvasir-dataset-e-v2/testing/normal-cecum')\n",
        "    os.mkdir('/tmp/kvasir-dataset-e-v2/testing/normal-pylorus')\n",
        "    os.mkdir('/tmp/kvasir-dataset-e-v2/testing/normal-z-line')\n",
        "    os.mkdir('/tmp/kvasir-dataset-e-v2/testing/polyps')\n",
        "    os.mkdir('/tmp/kvasir-dataset-e-v2/testing/ulcerative-colitis')\n",
        "except OSError:\n",
        "    pass"
      ],
      "execution_count": null,
      "outputs": []
    },
    {
      "cell_type": "code",
      "metadata": {
        "id": "jOQ2VhkX_LXM"
      },
      "source": [
        "import random\n",
        "import shutil\n",
        "from shutil import copyfile\n",
        "\n",
        "def split_data(SOURCE, TRAINING, TESTING, SPLIT_SIZE):\n",
        "    selected_images = []\n",
        "    \n",
        "    for image in os.listdir(SOURCE):\n",
        "        image_path = SOURCE + image\n",
        "        if (os.path.getsize(image_path) > 0):\n",
        "            selected_images.append(image)\n",
        "    \n",
        "    shuffled_images = random.sample(selected_images, len(selected_images))\n",
        "    \n",
        "    len_train_images = int(len(selected_images) * SPLIT_SIZE)\n",
        "    \n",
        "    for image in shuffled_images[0:len_train_images]:\n",
        "        copyfile(SOURCE+image, TRAINING+image)\n",
        "    \n",
        "    for image in shuffled_images[len_train_images:]:\n",
        "        copyfile(SOURCE+image, TESTING+image)"
      ],
      "execution_count": null,
      "outputs": []
    },
    {
      "cell_type": "code",
      "metadata": {
        "id": "Q9h8AJP4_VF_"
      },
      "source": [
        "split_size = .9\n",
        "split_data('/tmp/kvasir-dataset-v2/dyed-lifted-polyps/', '/tmp/kvasir-dataset-e-v2/training/dyed-lifted-polyps/', '/tmp/kvasir-dataset-e-v2/testing/dyed-lifted-polyps/', split_size)\n",
        "split_data('/tmp/kvasir-dataset-v2/dyed-resection-margins/', '/tmp/kvasir-dataset-e-v2/training/dyed-resection-margins/', '/tmp/kvasir-dataset-e-v2/testing/dyed-resection-margins/', split_size)\n",
        "split_data('/tmp/kvasir-dataset-v2/esophagitis/', '/tmp/kvasir-dataset-e-v2/training/esophagitis/', '/tmp/kvasir-dataset-e-v2/testing/esophagitis/', split_size)\n",
        "split_data('/tmp/kvasir-dataset-v2/normal-cecum/', '/tmp/kvasir-dataset-e-v2/training/normal-cecum/', '/tmp/kvasir-dataset-e-v2/testing/normal-cecum/', split_size)\n",
        "split_data('/tmp/kvasir-dataset-v2/normal-pylorus/', '/tmp/kvasir-dataset-e-v2/training/normal-pylorus/', '/tmp/kvasir-dataset-e-v2/testing/normal-pylorus/', split_size)\n",
        "split_data('/tmp/kvasir-dataset-v2/normal-z-line/', '/tmp/kvasir-dataset-e-v2/training/normal-z-line/', '/tmp/kvasir-dataset-e-v2/testing/normal-z-line/', split_size)\n",
        "split_data('/tmp/kvasir-dataset-v2/polyps/', '/tmp/kvasir-dataset-e-v2/training/polyps/', '/tmp/kvasir-dataset-e-v2/testing/polyps/', split_size)\n",
        "split_data('/tmp/kvasir-dataset-v2/ulcerative-colitis/', '/tmp/kvasir-dataset-e-v2/training/ulcerative-colitis/', '/tmp/kvasir-dataset-e-v2/testing/ulcerative-colitis/', split_size)\n"
      ],
      "execution_count": null,
      "outputs": []
    },
    {
      "cell_type": "code",
      "metadata": {
        "id": "0DpOPaHRCV05"
      },
      "source": [
        "import tensorflow as tf\n",
        "from tensorflow.keras.optimizers import RMSprop\n",
        "from tensorflow.keras.preprocessing.image import ImageDataGenerator"
      ],
      "execution_count": null,
      "outputs": []
    },
    {
      "cell_type": "code",
      "metadata": {
        "colab": {
          "base_uri": "https://localhost:8080/"
        },
        "id": "qb_myCgfBzSv",
        "outputId": "42914b5d-c446-4bd4-c0e7-dc97ba62c1d6"
      },
      "source": [
        "base_dir = '/tmp/kvasir-dataset-e-v2'\n",
        "\n",
        "train_dir = os.path.join(base_dir, 'training')\n",
        "validation_dir = os.path.join(base_dir, 'testing')\n",
        "\n",
        "train_datagen = ImageDataGenerator(\n",
        "    rescale=1./255,\n",
        "    rotation_range=40,\n",
        "    width_shift_range=0.2,\n",
        "    height_shift_range=0.2,\n",
        "    shear_range=0.2,\n",
        "    zoom_range=0.2,\n",
        "    horizontal_flip=True,\n",
        "    fill_mode='nearest'\n",
        ")\n",
        "\n",
        "train_generator = train_datagen.flow_from_directory(\n",
        "    train_dir,\n",
        "    target_size=(224,224),\n",
        "    batch_size=126,\n",
        "    class_mode='categorical'\n",
        ")\n",
        "\n",
        "validation_datagen = ImageDataGenerator(rescale=1./255)\n",
        "\n",
        "validation_generator = validation_datagen.flow_from_directory(\n",
        "    validation_dir,\n",
        "    target_size=(224,224),\n",
        "    batch_size=126,\n",
        "    class_mode='categorical'\n",
        ")"
      ],
      "execution_count": null,
      "outputs": [
        {
          "output_type": "stream",
          "text": [
            "Found 7200 images belonging to 8 classes.\n",
            "Found 800 images belonging to 8 classes.\n"
          ],
          "name": "stdout"
        }
      ]
    },
    {
      "cell_type": "code",
      "metadata": {
        "colab": {
          "base_uri": "https://localhost:8080/"
        },
        "id": "T9vDpubZCipT",
        "outputId": "6a14e6c7-c577-4736-f4e1-db58afb8a030"
      },
      "source": [
        "model = tf.keras.models.Sequential([\n",
        "    tf.keras.layers.Conv2D(64, (3,3), activation='relu', input_shape=(224,224,3)),\n",
        "    tf.keras.layers.MaxPooling2D(2,2),\n",
        "    tf.keras.layers.Conv2D(64, (3,3), activation='relu'),\n",
        "    tf.keras.layers.MaxPooling2D(2,2),\n",
        "    tf.keras.layers.Conv2D(128, (3,3), activation='relu'),\n",
        "    tf.keras.layers.MaxPooling2D(2,2),\n",
        "    tf.keras.layers.Conv2D(128, (3,3), activation='relu'),\n",
        "    tf.keras.layers.MaxPooling2D(2,2),\n",
        "    tf.keras.layers.Flatten(),\n",
        "    tf.keras.layers.Dense(1024, activation='relu'),\n",
        "    tf.keras.layers.Dropout(0.2),\n",
        "    tf.keras.layers.Dense(1024, activation='relu'),\n",
        "    tf.keras.layers.Dense(8, activation='softmax')\n",
        "])\n",
        "\n",
        "model.summary()"
      ],
      "execution_count": null,
      "outputs": [
        {
          "output_type": "stream",
          "text": [
            "Model: \"sequential\"\n",
            "_________________________________________________________________\n",
            "Layer (type)                 Output Shape              Param #   \n",
            "=================================================================\n",
            "conv2d (Conv2D)              (None, 222, 222, 64)      1792      \n",
            "_________________________________________________________________\n",
            "max_pooling2d (MaxPooling2D) (None, 111, 111, 64)      0         \n",
            "_________________________________________________________________\n",
            "conv2d_1 (Conv2D)            (None, 109, 109, 64)      36928     \n",
            "_________________________________________________________________\n",
            "max_pooling2d_1 (MaxPooling2 (None, 54, 54, 64)        0         \n",
            "_________________________________________________________________\n",
            "conv2d_2 (Conv2D)            (None, 52, 52, 128)       73856     \n",
            "_________________________________________________________________\n",
            "max_pooling2d_2 (MaxPooling2 (None, 26, 26, 128)       0         \n",
            "_________________________________________________________________\n",
            "conv2d_3 (Conv2D)            (None, 24, 24, 128)       147584    \n",
            "_________________________________________________________________\n",
            "max_pooling2d_3 (MaxPooling2 (None, 12, 12, 128)       0         \n",
            "_________________________________________________________________\n",
            "flatten (Flatten)            (None, 18432)             0         \n",
            "_________________________________________________________________\n",
            "dense (Dense)                (None, 1024)              18875392  \n",
            "_________________________________________________________________\n",
            "dropout (Dropout)            (None, 1024)              0         \n",
            "_________________________________________________________________\n",
            "dense_1 (Dense)              (None, 1024)              1049600   \n",
            "_________________________________________________________________\n",
            "dense_2 (Dense)              (None, 8)                 8200      \n",
            "=================================================================\n",
            "Total params: 20,193,352\n",
            "Trainable params: 20,193,352\n",
            "Non-trainable params: 0\n",
            "_________________________________________________________________\n"
          ],
          "name": "stdout"
        }
      ]
    },
    {
      "cell_type": "code",
      "metadata": {
        "colab": {
          "base_uri": "https://localhost:8080/"
        },
        "id": "ZIIVHNyeC4-o",
        "outputId": "eb60c6a9-e5be-401e-bce4-38603087a33a"
      },
      "source": [
        "model.compile(loss='categorical_crossentropy', optimizer='rmsprop', metrics=['accuracy'])\n",
        "\n",
        "history = model.fit_generator(\n",
        "    train_generator,\n",
        "    epochs=50,\n",
        "    steps_per_epoch=20,\n",
        "    validation_data=validation_generator,\n",
        "    verbose=1,\n",
        "    validation_steps=3\n",
        ")"
      ],
      "execution_count": null,
      "outputs": [
        {
          "output_type": "stream",
          "text": [
            "/usr/local/lib/python3.7/dist-packages/tensorflow/python/keras/engine/training.py:1844: UserWarning: `Model.fit_generator` is deprecated and will be removed in a future version. Please use `Model.fit`, which supports generators.\n",
            "  warnings.warn('`Model.fit_generator` is deprecated and '\n"
          ],
          "name": "stderr"
        },
        {
          "output_type": "stream",
          "text": [
            "Epoch 1/50\n",
            "20/20 [==============================] - 101s 4s/step - loss: 3.1418 - accuracy: 0.1251 - val_loss: 1.9920 - val_accuracy: 0.1138\n",
            "Epoch 2/50\n",
            "20/20 [==============================] - 69s 3s/step - loss: 2.0834 - accuracy: 0.1622 - val_loss: 1.9883 - val_accuracy: 0.1376\n",
            "Epoch 3/50\n",
            "20/20 [==============================] - 68s 3s/step - loss: 2.0237 - accuracy: 0.1707 - val_loss: 2.2413 - val_accuracy: 0.2011\n",
            "Epoch 4/50\n",
            "20/20 [==============================] - 71s 4s/step - loss: 1.7776 - accuracy: 0.2808 - val_loss: 1.3589 - val_accuracy: 0.3413\n",
            "Epoch 5/50\n",
            "20/20 [==============================] - 71s 4s/step - loss: 1.3719 - accuracy: 0.3889 - val_loss: 1.1846 - val_accuracy: 0.4868\n",
            "Epoch 6/50\n",
            "20/20 [==============================] - 72s 4s/step - loss: 1.4258 - accuracy: 0.3710 - val_loss: 1.4900 - val_accuracy: 0.3466\n",
            "Epoch 7/50\n",
            "20/20 [==============================] - 72s 4s/step - loss: 1.2598 - accuracy: 0.3967 - val_loss: 1.4108 - val_accuracy: 0.3280\n",
            "Epoch 8/50\n",
            "20/20 [==============================] - 71s 4s/step - loss: 1.1630 - accuracy: 0.4352 - val_loss: 1.2046 - val_accuracy: 0.4603\n",
            "Epoch 9/50\n",
            "20/20 [==============================] - 68s 3s/step - loss: 1.1405 - accuracy: 0.4865 - val_loss: 0.7982 - val_accuracy: 0.6005\n",
            "Epoch 10/50\n",
            "20/20 [==============================] - 69s 3s/step - loss: 1.0837 - accuracy: 0.5019 - val_loss: 0.9020 - val_accuracy: 0.6085\n",
            "Epoch 11/50\n",
            "20/20 [==============================] - 70s 4s/step - loss: 1.1047 - accuracy: 0.5029 - val_loss: 0.9700 - val_accuracy: 0.5450\n",
            "Epoch 12/50\n",
            "20/20 [==============================] - 71s 4s/step - loss: 1.0011 - accuracy: 0.5470 - val_loss: 0.8710 - val_accuracy: 0.5582\n",
            "Epoch 13/50\n",
            "20/20 [==============================] - 71s 4s/step - loss: 1.0400 - accuracy: 0.5059 - val_loss: 0.7941 - val_accuracy: 0.6190\n",
            "Epoch 14/50\n",
            "20/20 [==============================] - 69s 3s/step - loss: 0.9642 - accuracy: 0.5420 - val_loss: 0.8012 - val_accuracy: 0.6111\n",
            "Epoch 15/50\n",
            "20/20 [==============================] - 68s 3s/step - loss: 0.9576 - accuracy: 0.5396 - val_loss: 0.7840 - val_accuracy: 0.6217\n",
            "Epoch 16/50\n",
            "20/20 [==============================] - 70s 4s/step - loss: 0.9079 - accuracy: 0.5718 - val_loss: 0.9858 - val_accuracy: 0.4762\n",
            "Epoch 17/50\n",
            "20/20 [==============================] - 71s 4s/step - loss: 1.0830 - accuracy: 0.5375 - val_loss: 0.8371 - val_accuracy: 0.5582\n",
            "Epoch 18/50\n",
            "20/20 [==============================] - 71s 4s/step - loss: 0.8738 - accuracy: 0.5914 - val_loss: 0.7014 - val_accuracy: 0.6481\n",
            "Epoch 19/50\n",
            "20/20 [==============================] - 72s 4s/step - loss: 1.0546 - accuracy: 0.5473 - val_loss: 0.7355 - val_accuracy: 0.6720\n",
            "Epoch 20/50\n",
            "20/20 [==============================] - 68s 3s/step - loss: 0.7913 - accuracy: 0.6252 - val_loss: 0.7857 - val_accuracy: 0.6217\n",
            "Epoch 21/50\n",
            "20/20 [==============================] - 70s 4s/step - loss: 0.8770 - accuracy: 0.5945 - val_loss: 0.8880 - val_accuracy: 0.5847\n",
            "Epoch 22/50\n",
            "20/20 [==============================] - 71s 4s/step - loss: 0.8077 - accuracy: 0.6206 - val_loss: 0.6943 - val_accuracy: 0.6799\n",
            "Epoch 23/50\n",
            "20/20 [==============================] - 71s 4s/step - loss: 0.8778 - accuracy: 0.5934 - val_loss: 0.8578 - val_accuracy: 0.5635\n",
            "Epoch 24/50\n",
            "20/20 [==============================] - 71s 4s/step - loss: 0.8089 - accuracy: 0.6389 - val_loss: 0.7792 - val_accuracy: 0.6349\n",
            "Epoch 25/50\n",
            "20/20 [==============================] - 71s 4s/step - loss: 0.9754 - accuracy: 0.5832 - val_loss: 0.7079 - val_accuracy: 0.6508\n",
            "Epoch 26/50\n",
            "20/20 [==============================] - 71s 4s/step - loss: 0.7773 - accuracy: 0.6328 - val_loss: 0.7185 - val_accuracy: 0.6508\n",
            "Epoch 27/50\n",
            "20/20 [==============================] - 71s 4s/step - loss: 0.7128 - accuracy: 0.6782 - val_loss: 0.9694 - val_accuracy: 0.5450\n",
            "Epoch 28/50\n",
            "20/20 [==============================] - 71s 4s/step - loss: 0.9184 - accuracy: 0.6042 - val_loss: 0.6143 - val_accuracy: 0.7143\n",
            "Epoch 29/50\n",
            "20/20 [==============================] - 72s 4s/step - loss: 0.7435 - accuracy: 0.6558 - val_loss: 0.6328 - val_accuracy: 0.6931\n",
            "Epoch 30/50\n",
            "20/20 [==============================] - 67s 3s/step - loss: 0.7931 - accuracy: 0.6304 - val_loss: 0.6354 - val_accuracy: 0.7302\n",
            "Epoch 31/50\n",
            "20/20 [==============================] - 67s 3s/step - loss: 0.8428 - accuracy: 0.6349 - val_loss: 0.6042 - val_accuracy: 0.7169\n",
            "Epoch 32/50\n",
            "20/20 [==============================] - 68s 3s/step - loss: 0.7040 - accuracy: 0.6782 - val_loss: 1.0557 - val_accuracy: 0.5635\n",
            "Epoch 33/50\n",
            "20/20 [==============================] - 70s 4s/step - loss: 0.8365 - accuracy: 0.6190 - val_loss: 0.6605 - val_accuracy: 0.6667\n",
            "Epoch 34/50\n",
            "20/20 [==============================] - 70s 4s/step - loss: 0.8441 - accuracy: 0.6321 - val_loss: 0.6806 - val_accuracy: 0.6878\n",
            "Epoch 35/50\n",
            "20/20 [==============================] - 71s 4s/step - loss: 0.7484 - accuracy: 0.6747 - val_loss: 0.7096 - val_accuracy: 0.6878\n",
            "Epoch 36/50\n",
            "20/20 [==============================] - 67s 3s/step - loss: 0.7444 - accuracy: 0.6542 - val_loss: 0.6460 - val_accuracy: 0.7011\n",
            "Epoch 37/50\n",
            "20/20 [==============================] - 70s 4s/step - loss: 0.7670 - accuracy: 0.6695 - val_loss: 0.6082 - val_accuracy: 0.7169\n",
            "Epoch 38/50\n",
            "20/20 [==============================] - 67s 3s/step - loss: 0.7083 - accuracy: 0.6895 - val_loss: 1.1350 - val_accuracy: 0.4709\n",
            "Epoch 39/50\n",
            "20/20 [==============================] - 70s 4s/step - loss: 0.8449 - accuracy: 0.6220 - val_loss: 0.7249 - val_accuracy: 0.6614\n",
            "Epoch 40/50\n",
            "20/20 [==============================] - 70s 4s/step - loss: 0.6999 - accuracy: 0.6775 - val_loss: 0.6830 - val_accuracy: 0.7063\n",
            "Epoch 41/50\n",
            "20/20 [==============================] - 68s 3s/step - loss: 0.6787 - accuracy: 0.7013 - val_loss: 0.6341 - val_accuracy: 0.6984\n",
            "Epoch 42/50\n",
            "20/20 [==============================] - 71s 4s/step - loss: 0.6618 - accuracy: 0.7046 - val_loss: 0.5715 - val_accuracy: 0.7328\n",
            "Epoch 43/50\n",
            "20/20 [==============================] - 68s 3s/step - loss: 0.6798 - accuracy: 0.6775 - val_loss: 0.6196 - val_accuracy: 0.7063\n",
            "Epoch 44/50\n",
            "20/20 [==============================] - 71s 4s/step - loss: 0.6695 - accuracy: 0.6908 - val_loss: 0.5984 - val_accuracy: 0.7037\n",
            "Epoch 45/50\n",
            "20/20 [==============================] - 69s 3s/step - loss: 0.7083 - accuracy: 0.6792 - val_loss: 0.6755 - val_accuracy: 0.7037\n",
            "Epoch 46/50\n",
            "20/20 [==============================] - 67s 3s/step - loss: 0.6864 - accuracy: 0.6858 - val_loss: 0.5255 - val_accuracy: 0.7513\n",
            "Epoch 47/50\n",
            "20/20 [==============================] - 67s 3s/step - loss: 1.1754 - accuracy: 0.5628 - val_loss: 0.7552 - val_accuracy: 0.6111\n",
            "Epoch 48/50\n",
            "20/20 [==============================] - 71s 4s/step - loss: 0.7089 - accuracy: 0.6739 - val_loss: 0.6217 - val_accuracy: 0.7143\n",
            "Epoch 49/50\n",
            "20/20 [==============================] - 70s 4s/step - loss: 0.6645 - accuracy: 0.6958 - val_loss: 0.6341 - val_accuracy: 0.7090\n",
            "Epoch 50/50\n",
            "20/20 [==============================] - 72s 4s/step - loss: 0.7485 - accuracy: 0.6877 - val_loss: 0.6233 - val_accuracy: 0.6958\n"
          ],
          "name": "stdout"
        }
      ]
    },
    {
      "cell_type": "code",
      "metadata": {
        "id": "c3CQFKDU4NSz"
      },
      "source": [
        ""
      ],
      "execution_count": null,
      "outputs": []
    },
    {
      "cell_type": "code",
      "metadata": {
        "colab": {
          "base_uri": "https://localhost:8080/",
          "height": 298
        },
        "id": "rAjH_8ZkJZmG",
        "outputId": "4f107ec4-cdbc-4e4b-d789-e5c13692b529"
      },
      "source": [
        "model.save('pcii.h5')\n",
        "\n",
        "import matplotlib.pyplot as plt\n",
        "acc = history.history['accuracy']\n",
        "val_acc = history.history['val_accuracy']\n",
        "loss = history.history['loss']\n",
        "val_loss = history.history['val_loss']\n",
        "\n",
        "epochs = range(len(acc))\n",
        "\n",
        "plt.plot(epochs, acc, 'r', label='Training accuracy')\n",
        "plt.plot(epochs, val_acc, 'b', label='Validation accuracy')\n",
        "plt.title('Training and validation accuracy')\n",
        "plt.legend(loc=0)\n",
        "plt.figure()\n",
        "\n",
        "\n",
        "plt.show()"
      ],
      "execution_count": null,
      "outputs": [
        {
          "output_type": "display_data",
          "data": {
            "image/png": "[encoded data removed]",
            "text/plain": [
              "<Figure size 432x288 with 1 Axes>"
            ]
          },
          "metadata": {
            "tags": []
          }
        },
        {
          "output_type": "display_data",
          "data": {
            "text/plain": [
              "<Figure size 432x288 with 0 Axes>"
            ]
          },
          "metadata": {
            "tags": []
          }
        }
      ]
    }
  ]
}