{
  "nbformat": 4,
  "nbformat_minor": 0,
  "metadata": {
    "colab": {
      "name": "InceptionV3-model.ipynb",
      "provenance": [],
      "include_colab_link": true
    },
    "kernelspec": {
      "name": "python3",
      "display_name": "Python 3"
    },
    "accelerator": "GPU"
  },
  "cells": [
    {
      "cell_type": "markdown",
      "metadata": {
        "id": "view-in-github",
        "colab_type": "text"
      },
      "source": [
        "<a href=\"https://colab.research.google.com/github/dhaura/PCII/blob/main/InceptionV3_model_9250.ipynb\" target=\"_parent\"><img src=\"https://colab.research.google.com/assets/colab-badge.svg\" alt=\"Open In Colab\"/></a>"
      ]
    },
    {
      "cell_type": "code",
      "metadata": {
        "id": "WXaXJ-_3AYWQ",
        "colab": {
          "base_uri": "https://localhost:8080/"
        },
        "outputId": "471487bc-b1df-4827-901d-c66d495d3d09"
      },
      "source": [
        "!wget --no-check-certificate \\\n",
        "  https://datasets.simula.no/kvasir/data/kvasir-dataset-v2.zip\\\n",
        "  -O /tmp/kvasir-dataset-v2.zip"
      ],
      "execution_count": 1,
      "outputs": [
        {
          "output_type": "stream",
          "text": [
            "--2021-03-06 08:54:02--  https://datasets.simula.no/kvasir/data/kvasir-dataset-v2.zip\n",
            "Resolving datasets.simula.no (datasets.simula.no)... 128.39.36.14\n",
            "Connecting to datasets.simula.no (datasets.simula.no)|128.39.36.14|:443... connected.\n",
            "HTTP request sent, awaiting response... 200 OK\n",
            "Length: 2489312085 (2.3G) [application/zip]\n",
            "Saving to: ‘/tmp/kvasir-dataset-v2.zip’\n",
            "\n",
            "/tmp/kvasir-dataset 100%[===================>]   2.32G  5.50MB/s    in 11m 9s  \n",
            "\n",
            "2021-03-06 09:05:12 (3.55 MB/s) - ‘/tmp/kvasir-dataset-v2.zip’ saved [2489312085/2489312085]\n",
            "\n"
          ],
          "name": "stdout"
        }
      ]
    },
    {
      "cell_type": "code",
      "metadata": {
        "id": "0syzanC8Af9t"
      },
      "source": [
        "import os\n",
        "import zipfile\n",
        "\n",
        "local_zip = '/tmp/kvasir-dataset-v2.zip'\n",
        "\n",
        "zip_ref = zipfile.ZipFile(local_zip, 'r')\n",
        "\n",
        "zip_ref.extractall('/tmp')\n",
        "zip_ref.close()"
      ],
      "execution_count": 2,
      "outputs": []
    },
    {
      "cell_type": "code",
      "metadata": {
        "id": "FFUeRxF9AiPh"
      },
      "source": [
        "try:\n",
        "    os.mkdir('/tmp/kvasir-dataset-e-v2')\n",
        "    os.mkdir('/tmp/kvasir-dataset-e-v2/training')\n",
        "    os.mkdir('/tmp/kvasir-dataset-e-v2/testing')\n",
        "    os.mkdir('/tmp/kvasir-dataset-e-v2/training/dyed-lifted-polyps')\n",
        "    os.mkdir('/tmp/kvasir-dataset-e-v2/training/dyed-resection-margins')\n",
        "    os.mkdir('/tmp/kvasir-dataset-e-v2/training/esophagitis')\n",
        "    os.mkdir('/tmp/kvasir-dataset-e-v2/training/normal-cecum')\n",
        "    os.mkdir('/tmp/kvasir-dataset-e-v2/training/normal-pylorus')\n",
        "    os.mkdir('/tmp/kvasir-dataset-e-v2/training/normal-z-line')\n",
        "    os.mkdir('/tmp/kvasir-dataset-e-v2/training/polyps')\n",
        "    os.mkdir('/tmp/kvasir-dataset-e-v2/training/ulcerative-colitis')\n",
        "    os.mkdir('/tmp/kvasir-dataset-e-v2/testing/dyed-lifted-polyps')\n",
        "    os.mkdir('/tmp/kvasir-dataset-e-v2/testing/dyed-resection-margins')\n",
        "    os.mkdir('/tmp/kvasir-dataset-e-v2/testing/esophagitis')\n",
        "    os.mkdir('/tmp/kvasir-dataset-e-v2/testing/normal-cecum')\n",
        "    os.mkdir('/tmp/kvasir-dataset-e-v2/testing/normal-pylorus')\n",
        "    os.mkdir('/tmp/kvasir-dataset-e-v2/testing/normal-z-line')\n",
        "    os.mkdir('/tmp/kvasir-dataset-e-v2/testing/polyps')\n",
        "    os.mkdir('/tmp/kvasir-dataset-e-v2/testing/ulcerative-colitis')\n",
        "except OSError:\n",
        "    pass"
      ],
      "execution_count": 3,
      "outputs": []
    },
    {
      "cell_type": "code",
      "metadata": {
        "id": "cYohnLQHAmvN"
      },
      "source": [
        "import random\n",
        "import shutil\n",
        "from shutil import copyfile\n",
        "\n",
        "def split_data(SOURCE, TRAINING, TESTING, SPLIT_SIZE):\n",
        "    selected_images = []\n",
        "    \n",
        "    for image in os.listdir(SOURCE):\n",
        "        image_path = SOURCE + image\n",
        "        if (os.path.getsize(image_path) > 0):\n",
        "            selected_images.append(image)\n",
        "    \n",
        "    shuffled_images = random.sample(selected_images, len(selected_images))\n",
        "    \n",
        "    len_train_images = int(len(selected_images) * SPLIT_SIZE)\n",
        "    \n",
        "    for image in shuffled_images[0:len_train_images]:\n",
        "        copyfile(SOURCE+image, TRAINING+image)\n",
        "    \n",
        "    for image in shuffled_images[len_train_images:]:\n",
        "        copyfile(SOURCE+image, TESTING+image)"
      ],
      "execution_count": 4,
      "outputs": []
    },
    {
      "cell_type": "code",
      "metadata": {
        "id": "aw6X6WhjAnVV"
      },
      "source": [
        "split_size = .8\n",
        "split_data('/tmp/kvasir-dataset-v2/dyed-lifted-polyps/', '/tmp/kvasir-dataset-e-v2/training/dyed-lifted-polyps/', '/tmp/kvasir-dataset-e-v2/testing/dyed-lifted-polyps/', split_size)\n",
        "split_data('/tmp/kvasir-dataset-v2/dyed-resection-margins/', '/tmp/kvasir-dataset-e-v2/training/dyed-resection-margins/', '/tmp/kvasir-dataset-e-v2/testing/dyed-resection-margins/', split_size)\n",
        "split_data('/tmp/kvasir-dataset-v2/esophagitis/', '/tmp/kvasir-dataset-e-v2/training/esophagitis/', '/tmp/kvasir-dataset-e-v2/testing/esophagitis/', split_size)\n",
        "split_data('/tmp/kvasir-dataset-v2/normal-cecum/', '/tmp/kvasir-dataset-e-v2/training/normal-cecum/', '/tmp/kvasir-dataset-e-v2/testing/normal-cecum/', split_size)\n",
        "split_data('/tmp/kvasir-dataset-v2/normal-pylorus/', '/tmp/kvasir-dataset-e-v2/training/normal-pylorus/', '/tmp/kvasir-dataset-e-v2/testing/normal-pylorus/', split_size)\n",
        "split_data('/tmp/kvasir-dataset-v2/normal-z-line/', '/tmp/kvasir-dataset-e-v2/training/normal-z-line/', '/tmp/kvasir-dataset-e-v2/testing/normal-z-line/', split_size)\n",
        "split_data('/tmp/kvasir-dataset-v2/polyps/', '/tmp/kvasir-dataset-e-v2/training/polyps/', '/tmp/kvasir-dataset-e-v2/testing/polyps/', split_size)\n",
        "split_data('/tmp/kvasir-dataset-v2/ulcerative-colitis/', '/tmp/kvasir-dataset-e-v2/training/ulcerative-colitis/', '/tmp/kvasir-dataset-e-v2/testing/ulcerative-colitis/', split_size)"
      ],
      "execution_count": 5,
      "outputs": []
    },
    {
      "cell_type": "code",
      "metadata": {
        "id": "rBW0B6uTAtlI"
      },
      "source": [
        "import tensorflow as tf\n",
        "from tensorflow.keras.optimizers import RMSprop\n",
        "from tensorflow.keras.preprocessing.image import ImageDataGenerator\n",
        "from tensorflow.keras.applications.inception_v3 import InceptionV3"
      ],
      "execution_count": 6,
      "outputs": []
    },
    {
      "cell_type": "code",
      "metadata": {
        "id": "JHcXAP15AuNN",
        "colab": {
          "base_uri": "https://localhost:8080/"
        },
        "outputId": "f11bd0cb-a105-4319-b06f-98b27d032cdf"
      },
      "source": [
        "base_dir = '/tmp/kvasir-dataset-e-v2'\n",
        "\n",
        "train_dir = os.path.join(base_dir, 'training')\n",
        "validation_dir = os.path.join(base_dir, 'testing')\n",
        "\n",
        "train_datagen = ImageDataGenerator(\n",
        "    rescale=1./255,\n",
        "    rotation_range=40,\n",
        "    width_shift_range=0.2,\n",
        "    height_shift_range=0.2,\n",
        "    shear_range=0.2,\n",
        "    zoom_range=0.2,\n",
        "    horizontal_flip=True,\n",
        "    fill_mode='nearest'\n",
        ")\n",
        "\n",
        "train_generator = train_datagen.flow_from_directory(\n",
        "    train_dir,\n",
        "    target_size=(224,224),\n",
        "    batch_size=64,\n",
        "    class_mode='categorical'\n",
        ")\n",
        "\n",
        "validation_datagen = ImageDataGenerator(rescale=1./255)\n",
        "\n",
        "validation_generator = validation_datagen.flow_from_directory(\n",
        "    validation_dir,\n",
        "    target_size=(224,224),\n",
        "    batch_size=64,\n",
        "    class_mode='categorical'\n",
        ")"
      ],
      "execution_count": 7,
      "outputs": [
        {
          "output_type": "stream",
          "text": [
            "Found 6400 images belonging to 8 classes.\n",
            "Found 1600 images belonging to 8 classes.\n"
          ],
          "name": "stdout"
        }
      ]
    },
    {
      "cell_type": "code",
      "metadata": {
        "id": "UzIP-lKEA_6L",
        "colab": {
          "base_uri": "https://localhost:8080/"
        },
        "outputId": "7c4aa873-5d10-4f07-f723-41934c6cb4d2"
      },
      "source": [
        "local_weights_file = 'inception_v3_weights_tf_dim_ordering_tf_kernels_notop.h5'\n",
        "\n",
        "pre_trained_model = InceptionV3(input_shape=(224, 224, 3),\n",
        "                                include_top=False,\n",
        "                                weights='imagenet')\n",
        "\n",
        "# pre_trained_model.load_weights(local_weights_file)\n",
        "\n",
        "for layer in pre_trained_model.layers:\n",
        "    layer.trainable = False\n",
        "\n",
        "for layer in pre_trained_model.layers[40:]:\n",
        "    layer.trainable = True\n",
        "\n",
        "#pre_trained_model.summary()\n",
        "\n",
        "last_layer = pre_trained_model.get_layer('mixed7')\n",
        "\n",
        "last_output = last_layer.output\n"
      ],
      "execution_count": 8,
      "outputs": [
        {
          "output_type": "stream",
          "text": [
            "Downloading data from https://storage.googleapis.com/tensorflow/keras-applications/inception_v3/inception_v3_weights_tf_dim_ordering_tf_kernels_notop.h5\n",
            "87916544/87910968 [==============================] - 1s 0us/step\n"
          ],
          "name": "stdout"
        }
      ]
    },
    {
      "cell_type": "code",
      "metadata": {
        "id": "BzYrNaNFBO1t"
      },
      "source": [
        "x = tf.keras.layers.Flatten()(last_output)\n",
        "x = tf.keras.layers.Dense(1024, activation='relu')(x)\n",
        "x = tf.keras.layers.Dense(512, activation='relu')(x)\n",
        "x = tf.keras.layers.Dropout(0.1)(x)\n",
        "x = tf.keras.layers.Dense(8, activation='softmax')(x)\n",
        "\n",
        "model =  tf.keras.Model( pre_trained_model.input, x)\n",
        "\n",
        "model.compile(optimizer = RMSprop(lr=0.0001),\n",
        "              loss = 'categorical_crossentropy',\n",
        "              metrics = ['accuracy'])"
      ],
      "execution_count": 9,
      "outputs": []
    },
    {
      "cell_type": "code",
      "metadata": {
        "id": "I_44BBdWBe-d",
        "colab": {
          "base_uri": "https://localhost:8080/"
        },
        "outputId": "24780dfc-2313-4d44-c3fe-f2014404e652"
      },
      "source": [
        "history = model.fit_generator(\n",
        "            train_generator,\n",
        "            validation_data = validation_generator,\n",
        "            steps_per_epoch = 5,\n",
        "            epochs = 50,\n",
        "            validation_steps = 5,\n",
        "            verbose = 1)"
      ],
      "execution_count": 10,
      "outputs": [
        {
          "output_type": "stream",
          "text": [
            "/usr/local/lib/python3.7/dist-packages/tensorflow/python/keras/engine/training.py:1844: UserWarning: `Model.fit_generator` is deprecated and will be removed in a future version. Please use `Model.fit`, which supports generators.\n",
            "  warnings.warn('`Model.fit_generator` is deprecated and '\n"
          ],
          "name": "stderr"
        },
        {
          "output_type": "stream",
          "text": [
            "Epoch 1/50\n",
            "5/5 [==============================] - 55s 4s/step - loss: 2.9013 - accuracy: 0.1722 - val_loss: 1.6861 - val_accuracy: 0.3812\n",
            "Epoch 2/50\n",
            "5/5 [==============================] - 15s 3s/step - loss: 1.6248 - accuracy: 0.4066 - val_loss: 1.6721 - val_accuracy: 0.3719\n",
            "Epoch 3/50\n",
            "5/5 [==============================] - 15s 3s/step - loss: 1.4323 - accuracy: 0.4869 - val_loss: 0.8645 - val_accuracy: 0.6594\n",
            "Epoch 4/50\n",
            "5/5 [==============================] - 15s 3s/step - loss: 0.8704 - accuracy: 0.6618 - val_loss: 0.9894 - val_accuracy: 0.6187\n",
            "Epoch 5/50\n",
            "5/5 [==============================] - 15s 3s/step - loss: 0.6292 - accuracy: 0.7381 - val_loss: 1.1546 - val_accuracy: 0.6031\n",
            "Epoch 6/50\n",
            "5/5 [==============================] - 15s 3s/step - loss: 0.6743 - accuracy: 0.7255 - val_loss: 0.6209 - val_accuracy: 0.7625\n",
            "Epoch 7/50\n",
            "5/5 [==============================] - 15s 3s/step - loss: 0.5014 - accuracy: 0.8053 - val_loss: 0.7785 - val_accuracy: 0.7469\n",
            "Epoch 8/50\n",
            "5/5 [==============================] - 16s 3s/step - loss: 0.4492 - accuracy: 0.8367 - val_loss: 0.8150 - val_accuracy: 0.7375\n",
            "Epoch 9/50\n",
            "5/5 [==============================] - 15s 3s/step - loss: 0.3952 - accuracy: 0.8523 - val_loss: 0.6397 - val_accuracy: 0.7781\n",
            "Epoch 10/50\n",
            "5/5 [==============================] - 15s 3s/step - loss: 0.4336 - accuracy: 0.8263 - val_loss: 0.7573 - val_accuracy: 0.7875\n",
            "Epoch 11/50\n",
            "5/5 [==============================] - 15s 3s/step - loss: 0.3490 - accuracy: 0.8645 - val_loss: 0.9052 - val_accuracy: 0.7719\n",
            "Epoch 12/50\n",
            "5/5 [==============================] - 15s 3s/step - loss: 0.4616 - accuracy: 0.8177 - val_loss: 0.6277 - val_accuracy: 0.7906\n",
            "Epoch 13/50\n",
            "5/5 [==============================] - 15s 3s/step - loss: 0.3223 - accuracy: 0.8507 - val_loss: 0.4527 - val_accuracy: 0.8562\n",
            "Epoch 14/50\n",
            "5/5 [==============================] - 15s 3s/step - loss: 0.3701 - accuracy: 0.8506 - val_loss: 0.5393 - val_accuracy: 0.8375\n",
            "Epoch 15/50\n",
            "5/5 [==============================] - 15s 3s/step - loss: 0.4567 - accuracy: 0.8076 - val_loss: 0.9858 - val_accuracy: 0.7563\n",
            "Epoch 16/50\n",
            "5/5 [==============================] - 14s 3s/step - loss: 0.3374 - accuracy: 0.8736 - val_loss: 0.6597 - val_accuracy: 0.8188\n",
            "Epoch 17/50\n",
            "5/5 [==============================] - 15s 3s/step - loss: 0.3109 - accuracy: 0.8477 - val_loss: 0.7410 - val_accuracy: 0.8125\n",
            "Epoch 18/50\n",
            "5/5 [==============================] - 15s 3s/step - loss: 0.3637 - accuracy: 0.8686 - val_loss: 0.6275 - val_accuracy: 0.8219\n",
            "Epoch 19/50\n",
            "5/5 [==============================] - 15s 3s/step - loss: 0.2815 - accuracy: 0.8571 - val_loss: 0.6291 - val_accuracy: 0.8219\n",
            "Epoch 20/50\n",
            "5/5 [==============================] - 15s 3s/step - loss: 0.2699 - accuracy: 0.9184 - val_loss: 0.5873 - val_accuracy: 0.8375\n",
            "Epoch 21/50\n",
            "5/5 [==============================] - 15s 3s/step - loss: 0.2838 - accuracy: 0.8815 - val_loss: 0.4783 - val_accuracy: 0.8406\n",
            "Epoch 22/50\n",
            "5/5 [==============================] - 15s 3s/step - loss: 0.2412 - accuracy: 0.8935 - val_loss: 0.3653 - val_accuracy: 0.8687\n",
            "Epoch 23/50\n",
            "5/5 [==============================] - 15s 3s/step - loss: 0.3059 - accuracy: 0.8856 - val_loss: 0.4204 - val_accuracy: 0.8719\n",
            "Epoch 24/50\n",
            "5/5 [==============================] - 15s 3s/step - loss: 0.3372 - accuracy: 0.8614 - val_loss: 0.9482 - val_accuracy: 0.7875\n",
            "Epoch 25/50\n",
            "5/5 [==============================] - 15s 3s/step - loss: 0.2307 - accuracy: 0.9039 - val_loss: 0.7674 - val_accuracy: 0.8219\n",
            "Epoch 26/50\n",
            "5/5 [==============================] - 15s 3s/step - loss: 0.3775 - accuracy: 0.8677 - val_loss: 0.7294 - val_accuracy: 0.8562\n",
            "Epoch 27/50\n",
            "5/5 [==============================] - 15s 3s/step - loss: 0.3032 - accuracy: 0.8740 - val_loss: 0.7455 - val_accuracy: 0.8281\n",
            "Epoch 28/50\n",
            "5/5 [==============================] - 15s 3s/step - loss: 0.3374 - accuracy: 0.8829 - val_loss: 0.5876 - val_accuracy: 0.8906\n",
            "Epoch 29/50\n",
            "5/5 [==============================] - 15s 3s/step - loss: 0.2520 - accuracy: 0.8818 - val_loss: 0.6597 - val_accuracy: 0.8625\n",
            "Epoch 30/50\n",
            "5/5 [==============================] - 15s 3s/step - loss: 0.2855 - accuracy: 0.8891 - val_loss: 0.3492 - val_accuracy: 0.9000\n",
            "Epoch 31/50\n",
            "5/5 [==============================] - 14s 3s/step - loss: 0.4324 - accuracy: 0.8642 - val_loss: 0.3297 - val_accuracy: 0.9187\n",
            "Epoch 32/50\n",
            "5/5 [==============================] - 15s 3s/step - loss: 0.2522 - accuracy: 0.8754 - val_loss: 0.4048 - val_accuracy: 0.9031\n",
            "Epoch 33/50\n",
            "5/5 [==============================] - 15s 3s/step - loss: 0.2138 - accuracy: 0.9353 - val_loss: 0.5850 - val_accuracy: 0.8687\n",
            "Epoch 34/50\n",
            "5/5 [==============================] - 15s 3s/step - loss: 0.2717 - accuracy: 0.8910 - val_loss: 0.3409 - val_accuracy: 0.9219\n",
            "Epoch 35/50\n",
            "5/5 [==============================] - 15s 3s/step - loss: 0.1870 - accuracy: 0.9164 - val_loss: 0.2999 - val_accuracy: 0.9094\n",
            "Epoch 36/50\n",
            "5/5 [==============================] - 15s 3s/step - loss: 0.3177 - accuracy: 0.8801 - val_loss: 0.5245 - val_accuracy: 0.8938\n",
            "Epoch 37/50\n",
            "5/5 [==============================] - 15s 3s/step - loss: 0.3327 - accuracy: 0.8639 - val_loss: 0.2144 - val_accuracy: 0.9344\n",
            "Epoch 38/50\n",
            "5/5 [==============================] - 15s 3s/step - loss: 0.1900 - accuracy: 0.9309 - val_loss: 0.5068 - val_accuracy: 0.8938\n",
            "Epoch 39/50\n",
            "5/5 [==============================] - 15s 3s/step - loss: 0.3256 - accuracy: 0.8499 - val_loss: 0.3836 - val_accuracy: 0.8875\n",
            "Epoch 40/50\n",
            "5/5 [==============================] - 15s 3s/step - loss: 0.3183 - accuracy: 0.8969 - val_loss: 0.3010 - val_accuracy: 0.9344\n",
            "Epoch 41/50\n",
            "5/5 [==============================] - 15s 3s/step - loss: 0.1740 - accuracy: 0.9482 - val_loss: 0.3107 - val_accuracy: 0.9187\n",
            "Epoch 42/50\n",
            "5/5 [==============================] - 15s 3s/step - loss: 0.1923 - accuracy: 0.9461 - val_loss: 0.6617 - val_accuracy: 0.8781\n",
            "Epoch 43/50\n",
            "5/5 [==============================] - 15s 3s/step - loss: 0.2840 - accuracy: 0.9012 - val_loss: 0.4343 - val_accuracy: 0.9000\n",
            "Epoch 44/50\n",
            "5/5 [==============================] - 15s 3s/step - loss: 0.3621 - accuracy: 0.8810 - val_loss: 0.4610 - val_accuracy: 0.8938\n",
            "Epoch 45/50\n",
            "5/5 [==============================] - 15s 3s/step - loss: 0.2187 - accuracy: 0.8927 - val_loss: 0.4434 - val_accuracy: 0.8938\n",
            "Epoch 46/50\n",
            "5/5 [==============================] - 15s 3s/step - loss: 0.3429 - accuracy: 0.8761 - val_loss: 0.4269 - val_accuracy: 0.8875\n",
            "Epoch 47/50\n",
            "5/5 [==============================] - 15s 3s/step - loss: 0.1798 - accuracy: 0.9224 - val_loss: 0.3893 - val_accuracy: 0.9062\n",
            "Epoch 48/50\n",
            "5/5 [==============================] - 15s 3s/step - loss: 0.1896 - accuracy: 0.9100 - val_loss: 0.6818 - val_accuracy: 0.8750\n",
            "Epoch 49/50\n",
            "5/5 [==============================] - 15s 3s/step - loss: 0.2281 - accuracy: 0.8814 - val_loss: 0.3263 - val_accuracy: 0.9250\n",
            "Epoch 50/50\n",
            "5/5 [==============================] - 15s 3s/step - loss: 0.1783 - accuracy: 0.9182 - val_loss: 0.4464 - val_accuracy: 0.9250\n"
          ],
          "name": "stdout"
        }
      ]
    },
    {
      "cell_type": "code",
      "metadata": {
        "id": "gRX7iKoyB3D9",
        "colab": {
          "base_uri": "https://localhost:8080/",
          "height": 298
        },
        "outputId": "0f1a926e-4945-4b97-884f-06ed7c247a6c"
      },
      "source": [
        "model.save('inceptionV3-model-weights.h5')\n",
        "\n",
        "import matplotlib.pyplot as plt\n",
        "acc = history.history['accuracy']\n",
        "val_acc = history.history['val_accuracy']\n",
        "loss = history.history['loss']\n",
        "val_loss = history.history['val_loss']\n",
        "\n",
        "epochs = range(len(acc))\n",
        "\n",
        "plt.plot(epochs, acc, 'r', label='Training accuracy')\n",
        "plt.plot(epochs, val_acc, 'b', label='Validation accuracy')\n",
        "plt.title('Training and validation accuracy')\n",
        "plt.legend(loc=0)\n",
        "plt.figure()\n",
        "\n",
        "\n",
        "plt.show()"
      ],
      "execution_count": 11,
      "outputs": [
        {
          "output_type": "display_data",
          "data": {
            "image/png": "[encoded data removed]",
            "text/plain": [
              "<Figure size 432x288 with 1 Axes>"
            ]
          },
          "metadata": {
            "tags": [],
            "needs_background": "light"
          }
        },
        {
          "output_type": "display_data",
          "data": {
            "text/plain": [
              "<Figure size 432x288 with 0 Axes>"
            ]
          },
          "metadata": {
            "tags": []
          }
        }
      ]
    }
  ]
}