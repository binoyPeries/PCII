{
  "nbformat": 4,
  "nbformat_minor": 0,
  "metadata": {
    "colab": {
      "name": "InceptionV3-model.ipynb",
      "provenance": [],
      "include_colab_link": true
    },
    "kernelspec": {
      "name": "python3",
      "display_name": "Python 3"
    },
    "accelerator": "GPU"
  },
  "cells": [
    {
      "cell_type": "markdown",
      "metadata": {
        "id": "view-in-github",
        "colab_type": "text"
      },
      "source": [
        "<a href=\"https://colab.research.google.com/github/dhaura/PCII/blob/main/InceptionV3_model_89061.ipynb\" target=\"_parent\"><img src=\"https://colab.research.google.com/assets/colab-badge.svg\" alt=\"Open In Colab\"/></a>"
      ]
    },
    {
      "cell_type": "code",
      "metadata": {
        "id": "WXaXJ-_3AYWQ",
        "colab": {
          "base_uri": "https://localhost:8080/"
        },
        "outputId": "02672bd9-c507-48f5-e962-5287141bdb08"
      },
      "source": [
        "!wget --no-check-certificate \\\n",
        "  https://datasets.simula.no/kvasir/data/kvasir-dataset-v2.zip\\\n",
        "  -O /tmp/kvasir-dataset-v2.zip"
      ],
      "execution_count": 1,
      "outputs": [
        {
          "output_type": "stream",
          "text": [
            "--2021-03-06 05:08:55--  https://datasets.simula.no/kvasir/data/kvasir-dataset-v2.zip\n",
            "Resolving datasets.simula.no (datasets.simula.no)... 128.39.36.14\n",
            "Connecting to datasets.simula.no (datasets.simula.no)|128.39.36.14|:443... connected.\n",
            "HTTP request sent, awaiting response... 200 OK\n",
            "Length: 2489312085 (2.3G) [application/zip]\n",
            "Saving to: ‘/tmp/kvasir-dataset-v2.zip’\n",
            "\n",
            "/tmp/kvasir-dataset 100%[===================>]   2.32G  20.0MB/s    in 3m 42s  \n",
            "\n",
            "2021-03-06 05:12:38 (10.7 MB/s) - ‘/tmp/kvasir-dataset-v2.zip’ saved [2489312085/2489312085]\n",
            "\n"
          ],
          "name": "stdout"
        }
      ]
    },
    {
      "cell_type": "code",
      "metadata": {
        "id": "0syzanC8Af9t"
      },
      "source": [
        "import os\n",
        "import zipfile\n",
        "\n",
        "local_zip = '/tmp/kvasir-dataset-v2.zip'\n",
        "\n",
        "zip_ref = zipfile.ZipFile(local_zip, 'r')\n",
        "\n",
        "zip_ref.extractall('/tmp')\n",
        "zip_ref.close()"
      ],
      "execution_count": 2,
      "outputs": []
    },
    {
      "cell_type": "code",
      "metadata": {
        "id": "FFUeRxF9AiPh"
      },
      "source": [
        "try:\n",
        "    os.mkdir('/tmp/kvasir-dataset-e-v2')\n",
        "    os.mkdir('/tmp/kvasir-dataset-e-v2/training')\n",
        "    os.mkdir('/tmp/kvasir-dataset-e-v2/testing')\n",
        "    os.mkdir('/tmp/kvasir-dataset-e-v2/training/dyed-lifted-polyps')\n",
        "    os.mkdir('/tmp/kvasir-dataset-e-v2/training/dyed-resection-margins')\n",
        "    os.mkdir('/tmp/kvasir-dataset-e-v2/training/esophagitis')\n",
        "    os.mkdir('/tmp/kvasir-dataset-e-v2/training/normal-cecum')\n",
        "    os.mkdir('/tmp/kvasir-dataset-e-v2/training/normal-pylorus')\n",
        "    os.mkdir('/tmp/kvasir-dataset-e-v2/training/normal-z-line')\n",
        "    os.mkdir('/tmp/kvasir-dataset-e-v2/training/polyps')\n",
        "    os.mkdir('/tmp/kvasir-dataset-e-v2/training/ulcerative-colitis')\n",
        "    os.mkdir('/tmp/kvasir-dataset-e-v2/testing/dyed-lifted-polyps')\n",
        "    os.mkdir('/tmp/kvasir-dataset-e-v2/testing/dyed-resection-margins')\n",
        "    os.mkdir('/tmp/kvasir-dataset-e-v2/testing/esophagitis')\n",
        "    os.mkdir('/tmp/kvasir-dataset-e-v2/testing/normal-cecum')\n",
        "    os.mkdir('/tmp/kvasir-dataset-e-v2/testing/normal-pylorus')\n",
        "    os.mkdir('/tmp/kvasir-dataset-e-v2/testing/normal-z-line')\n",
        "    os.mkdir('/tmp/kvasir-dataset-e-v2/testing/polyps')\n",
        "    os.mkdir('/tmp/kvasir-dataset-e-v2/testing/ulcerative-colitis')\n",
        "except OSError:\n",
        "    pass"
      ],
      "execution_count": 3,
      "outputs": []
    },
    {
      "cell_type": "code",
      "metadata": {
        "id": "cYohnLQHAmvN"
      },
      "source": [
        "import random\n",
        "import shutil\n",
        "from shutil import copyfile\n",
        "\n",
        "def split_data(SOURCE, TRAINING, TESTING, SPLIT_SIZE):\n",
        "    selected_images = []\n",
        "    \n",
        "    for image in os.listdir(SOURCE):\n",
        "        image_path = SOURCE + image\n",
        "        if (os.path.getsize(image_path) > 0):\n",
        "            selected_images.append(image)\n",
        "    \n",
        "    shuffled_images = random.sample(selected_images, len(selected_images))\n",
        "    \n",
        "    len_train_images = int(len(selected_images) * SPLIT_SIZE)\n",
        "    \n",
        "    for image in shuffled_images[0:len_train_images]:\n",
        "        copyfile(SOURCE+image, TRAINING+image)\n",
        "    \n",
        "    for image in shuffled_images[len_train_images:]:\n",
        "        copyfile(SOURCE+image, TESTING+image)"
      ],
      "execution_count": 4,
      "outputs": []
    },
    {
      "cell_type": "code",
      "metadata": {
        "id": "aw6X6WhjAnVV"
      },
      "source": [
        "split_size = .8\n",
        "split_data('/tmp/kvasir-dataset-v2/dyed-lifted-polyps/', '/tmp/kvasir-dataset-e-v2/training/dyed-lifted-polyps/', '/tmp/kvasir-dataset-e-v2/testing/dyed-lifted-polyps/', split_size)\n",
        "split_data('/tmp/kvasir-dataset-v2/dyed-resection-margins/', '/tmp/kvasir-dataset-e-v2/training/dyed-resection-margins/', '/tmp/kvasir-dataset-e-v2/testing/dyed-resection-margins/', split_size)\n",
        "split_data('/tmp/kvasir-dataset-v2/esophagitis/', '/tmp/kvasir-dataset-e-v2/training/esophagitis/', '/tmp/kvasir-dataset-e-v2/testing/esophagitis/', split_size)\n",
        "split_data('/tmp/kvasir-dataset-v2/normal-cecum/', '/tmp/kvasir-dataset-e-v2/training/normal-cecum/', '/tmp/kvasir-dataset-e-v2/testing/normal-cecum/', split_size)\n",
        "split_data('/tmp/kvasir-dataset-v2/normal-pylorus/', '/tmp/kvasir-dataset-e-v2/training/normal-pylorus/', '/tmp/kvasir-dataset-e-v2/testing/normal-pylorus/', split_size)\n",
        "split_data('/tmp/kvasir-dataset-v2/normal-z-line/', '/tmp/kvasir-dataset-e-v2/training/normal-z-line/', '/tmp/kvasir-dataset-e-v2/testing/normal-z-line/', split_size)\n",
        "split_data('/tmp/kvasir-dataset-v2/polyps/', '/tmp/kvasir-dataset-e-v2/training/polyps/', '/tmp/kvasir-dataset-e-v2/testing/polyps/', split_size)\n",
        "split_data('/tmp/kvasir-dataset-v2/ulcerative-colitis/', '/tmp/kvasir-dataset-e-v2/training/ulcerative-colitis/', '/tmp/kvasir-dataset-e-v2/testing/ulcerative-colitis/', split_size)"
      ],
      "execution_count": 5,
      "outputs": []
    },
    {
      "cell_type": "code",
      "metadata": {
        "id": "rBW0B6uTAtlI"
      },
      "source": [
        "import tensorflow as tf\n",
        "from tensorflow.keras.optimizers import RMSprop\n",
        "from tensorflow.keras.preprocessing.image import ImageDataGenerator\n",
        "from tensorflow.keras.applications.inception_v3 import InceptionV3"
      ],
      "execution_count": 6,
      "outputs": []
    },
    {
      "cell_type": "code",
      "metadata": {
        "id": "JHcXAP15AuNN",
        "colab": {
          "base_uri": "https://localhost:8080/"
        },
        "outputId": "03227c43-f874-43f6-c550-f79469ba28b2"
      },
      "source": [
        "base_dir = '/tmp/kvasir-dataset-e-v2'\n",
        "\n",
        "train_dir = os.path.join(base_dir, 'training')\n",
        "validation_dir = os.path.join(base_dir, 'testing')\n",
        "\n",
        "train_datagen = ImageDataGenerator(\n",
        "    rescale=1./255,\n",
        "    rotation_range=40,\n",
        "    width_shift_range=0.2,\n",
        "    height_shift_range=0.2,\n",
        "    shear_range=0.2,\n",
        "    zoom_range=0.2,\n",
        "    horizontal_flip=True,\n",
        "    fill_mode='nearest'\n",
        ")\n",
        "\n",
        "train_generator = train_datagen.flow_from_directory(\n",
        "    train_dir,\n",
        "    target_size=(250,250),\n",
        "    batch_size=64,\n",
        "    class_mode='categorical'\n",
        ")\n",
        "\n",
        "validation_datagen = ImageDataGenerator(rescale=1./255)\n",
        "\n",
        "validation_generator = validation_datagen.flow_from_directory(\n",
        "    validation_dir,\n",
        "    target_size=(250,250),\n",
        "    batch_size=64,\n",
        "    class_mode='categorical'\n",
        ")"
      ],
      "execution_count": 28,
      "outputs": [
        {
          "output_type": "stream",
          "text": [
            "Found 6400 images belonging to 8 classes.\n",
            "Found 1600 images belonging to 8 classes.\n"
          ],
          "name": "stdout"
        }
      ]
    },
    {
      "cell_type": "code",
      "metadata": {
        "id": "UzIP-lKEA_6L"
      },
      "source": [
        "local_weights_file = 'inception_v3_weights_tf_dim_ordering_tf_kernels_notop.h5'\n",
        "\n",
        "pre_trained_model = InceptionV3(input_shape=(250, 250, 3),\n",
        "                                include_top=False,\n",
        "                                weights='imagenet')\n",
        "\n",
        "# pre_trained_model.load_weights(local_weights_file)\n",
        "\n",
        "for layer in pre_trained_model.layers:\n",
        "    layer.trainable = False\n",
        "\n",
        "for layer in pre_trained_model.layers[40:]:\n",
        "    layer.trainable = True\n",
        "\n",
        "#pre_trained_model.summary()\n",
        "\n",
        "last_layer = pre_trained_model.get_layer('mixed7')\n",
        "\n",
        "last_output = last_layer.output\n"
      ],
      "execution_count": 30,
      "outputs": []
    },
    {
      "cell_type": "code",
      "metadata": {
        "id": "BzYrNaNFBO1t"
      },
      "source": [
        "x = tf.keras.layers.Flatten()(last_output)\n",
        "x = tf.keras.layers.Dense(1024, activation='relu')(x)\n",
        "x = tf.keras.layers.Dense(512, activation='relu')(x)\n",
        "x = tf.keras.layers.Dropout(0.1)(x)\n",
        "x = tf.keras.layers.Dense(8, activation='softmax')(x)\n",
        "\n",
        "model =  tf.keras.Model( pre_trained_model.input, x)\n",
        "\n",
        "model.compile(optimizer = RMSprop(lr=0.0001),\n",
        "              loss = 'categorical_crossentropy',\n",
        "              metrics = ['accuracy'])"
      ],
      "execution_count": 31,
      "outputs": []
    },
    {
      "cell_type": "code",
      "metadata": {
        "id": "I_44BBdWBe-d",
        "colab": {
          "base_uri": "https://localhost:8080/"
        },
        "outputId": "9fd227be-35f5-4b94-c690-5973b77ecead"
      },
      "source": [
        "history = model.fit_generator(\n",
        "            train_generator,\n",
        "            validation_data = validation_generator,\n",
        "            steps_per_epoch = 5,\n",
        "            epochs = 50,\n",
        "            validation_steps = 5,\n",
        "            verbose = 1)"
      ],
      "execution_count": 32,
      "outputs": [
        {
          "output_type": "stream",
          "text": [
            "/usr/local/lib/python3.7/dist-packages/tensorflow/python/keras/engine/training.py:1844: UserWarning: `Model.fit_generator` is deprecated and will be removed in a future version. Please use `Model.fit`, which supports generators.\n",
            "  warnings.warn('`Model.fit_generator` is deprecated and '\n"
          ],
          "name": "stderr"
        },
        {
          "output_type": "stream",
          "text": [
            "Epoch 1/50\n",
            "5/5 [==============================] - 24s 4s/step - loss: 2.7651 - accuracy: 0.1902 - val_loss: 1.5819 - val_accuracy: 0.4062\n",
            "Epoch 2/50\n",
            "5/5 [==============================] - 16s 3s/step - loss: 1.5924 - accuracy: 0.4168 - val_loss: 1.3327 - val_accuracy: 0.4469\n",
            "Epoch 3/50\n",
            "5/5 [==============================] - 16s 3s/step - loss: 1.1672 - accuracy: 0.5546 - val_loss: 0.8916 - val_accuracy: 0.6750\n",
            "Epoch 4/50\n",
            "5/5 [==============================] - 16s 4s/step - loss: 0.8656 - accuracy: 0.6849 - val_loss: 1.3664 - val_accuracy: 0.5281\n",
            "Epoch 5/50\n",
            "5/5 [==============================] - 16s 3s/step - loss: 0.7677 - accuracy: 0.7017 - val_loss: 1.1642 - val_accuracy: 0.5688\n",
            "Epoch 6/50\n",
            "5/5 [==============================] - 16s 3s/step - loss: 0.5531 - accuracy: 0.8032 - val_loss: 1.2198 - val_accuracy: 0.6719\n",
            "Epoch 7/50\n",
            "5/5 [==============================] - 16s 3s/step - loss: 0.5245 - accuracy: 0.8189 - val_loss: 0.9749 - val_accuracy: 0.7000\n",
            "Epoch 8/50\n",
            "5/5 [==============================] - 16s 3s/step - loss: 0.5388 - accuracy: 0.7939 - val_loss: 1.0738 - val_accuracy: 0.6844\n",
            "Epoch 9/50\n",
            "5/5 [==============================] - 16s 3s/step - loss: 0.5372 - accuracy: 0.7903 - val_loss: 0.8931 - val_accuracy: 0.7406\n",
            "Epoch 10/50\n",
            "5/5 [==============================] - 16s 3s/step - loss: 0.4484 - accuracy: 0.8100 - val_loss: 1.4680 - val_accuracy: 0.6406\n",
            "Epoch 11/50\n",
            "5/5 [==============================] - 16s 3s/step - loss: 0.5728 - accuracy: 0.7937 - val_loss: 0.5910 - val_accuracy: 0.8000\n",
            "Epoch 12/50\n",
            "5/5 [==============================] - 16s 3s/step - loss: 0.4976 - accuracy: 0.7951 - val_loss: 0.7648 - val_accuracy: 0.7719\n",
            "Epoch 13/50\n",
            "5/5 [==============================] - 16s 3s/step - loss: 0.5171 - accuracy: 0.7983 - val_loss: 0.5911 - val_accuracy: 0.8031\n",
            "Epoch 14/50\n",
            "5/5 [==============================] - 16s 3s/step - loss: 0.2607 - accuracy: 0.9089 - val_loss: 1.3676 - val_accuracy: 0.6625\n",
            "Epoch 15/50\n",
            "5/5 [==============================] - 16s 3s/step - loss: 0.3538 - accuracy: 0.8683 - val_loss: 0.7251 - val_accuracy: 0.7969\n",
            "Epoch 16/50\n",
            "5/5 [==============================] - 16s 3s/step - loss: 0.5758 - accuracy: 0.7768 - val_loss: 0.5603 - val_accuracy: 0.8344\n",
            "Epoch 17/50\n",
            "5/5 [==============================] - 16s 3s/step - loss: 0.3581 - accuracy: 0.8790 - val_loss: 0.7433 - val_accuracy: 0.8031\n",
            "Epoch 18/50\n",
            "5/5 [==============================] - 16s 3s/step - loss: 0.3213 - accuracy: 0.8838 - val_loss: 0.8565 - val_accuracy: 0.8344\n",
            "Epoch 19/50\n",
            "5/5 [==============================] - 16s 3s/step - loss: 0.2890 - accuracy: 0.8817 - val_loss: 0.5382 - val_accuracy: 0.8375\n",
            "Epoch 20/50\n",
            "5/5 [==============================] - 16s 4s/step - loss: 0.3341 - accuracy: 0.8910 - val_loss: 0.8484 - val_accuracy: 0.8156\n",
            "Epoch 21/50\n",
            "5/5 [==============================] - 16s 3s/step - loss: 0.2573 - accuracy: 0.8789 - val_loss: 0.8388 - val_accuracy: 0.8062\n",
            "Epoch 22/50\n",
            "5/5 [==============================] - 16s 4s/step - loss: 0.3400 - accuracy: 0.8678 - val_loss: 0.9887 - val_accuracy: 0.8219\n",
            "Epoch 23/50\n",
            "5/5 [==============================] - 16s 3s/step - loss: 0.2812 - accuracy: 0.8908 - val_loss: 1.0315 - val_accuracy: 0.7625\n",
            "Epoch 24/50\n",
            "5/5 [==============================] - 16s 3s/step - loss: 0.3505 - accuracy: 0.8339 - val_loss: 1.0341 - val_accuracy: 0.7688\n",
            "Epoch 25/50\n",
            "5/5 [==============================] - 16s 4s/step - loss: 0.2837 - accuracy: 0.9130 - val_loss: 1.2196 - val_accuracy: 0.7656\n",
            "Epoch 26/50\n",
            "5/5 [==============================] - 16s 3s/step - loss: 0.2942 - accuracy: 0.8979 - val_loss: 0.7004 - val_accuracy: 0.8594\n",
            "Epoch 27/50\n",
            "5/5 [==============================] - 16s 4s/step - loss: 0.2917 - accuracy: 0.8946 - val_loss: 1.0559 - val_accuracy: 0.7937\n",
            "Epoch 28/50\n",
            "5/5 [==============================] - 16s 3s/step - loss: 0.2131 - accuracy: 0.9181 - val_loss: 0.4308 - val_accuracy: 0.8906\n",
            "Epoch 29/50\n",
            "5/5 [==============================] - 16s 3s/step - loss: 0.2556 - accuracy: 0.8918 - val_loss: 0.4329 - val_accuracy: 0.8938\n",
            "Epoch 30/50\n",
            "5/5 [==============================] - 16s 3s/step - loss: 0.2862 - accuracy: 0.9029 - val_loss: 0.3715 - val_accuracy: 0.9000\n",
            "Epoch 31/50\n",
            "5/5 [==============================] - 16s 3s/step - loss: 0.2771 - accuracy: 0.9064 - val_loss: 0.6203 - val_accuracy: 0.8719\n",
            "Epoch 32/50\n",
            "5/5 [==============================] - 16s 4s/step - loss: 0.3927 - accuracy: 0.8763 - val_loss: 0.3671 - val_accuracy: 0.9031\n",
            "Epoch 33/50\n",
            "5/5 [==============================] - 16s 4s/step - loss: 0.2475 - accuracy: 0.9014 - val_loss: 0.4685 - val_accuracy: 0.9000\n",
            "Epoch 34/50\n",
            "5/5 [==============================] - 16s 4s/step - loss: 0.3190 - accuracy: 0.8758 - val_loss: 0.3324 - val_accuracy: 0.9312\n",
            "Epoch 35/50\n",
            "5/5 [==============================] - 16s 4s/step - loss: 0.2492 - accuracy: 0.8899 - val_loss: 0.5269 - val_accuracy: 0.9000\n",
            "Epoch 36/50\n",
            "5/5 [==============================] - 16s 4s/step - loss: 0.2731 - accuracy: 0.8834 - val_loss: 0.3641 - val_accuracy: 0.9000\n",
            "Epoch 37/50\n",
            "5/5 [==============================] - 16s 3s/step - loss: 0.2511 - accuracy: 0.9062 - val_loss: 0.2671 - val_accuracy: 0.9156\n",
            "Epoch 38/50\n",
            "5/5 [==============================] - 16s 4s/step - loss: 0.2725 - accuracy: 0.8950 - val_loss: 0.4010 - val_accuracy: 0.8938\n",
            "Epoch 39/50\n",
            "5/5 [==============================] - 16s 4s/step - loss: 0.3042 - accuracy: 0.8652 - val_loss: 0.5059 - val_accuracy: 0.9062\n",
            "Epoch 40/50\n",
            "5/5 [==============================] - 16s 4s/step - loss: 0.2809 - accuracy: 0.8986 - val_loss: 0.5244 - val_accuracy: 0.8469\n",
            "Epoch 41/50\n",
            "5/5 [==============================] - 16s 3s/step - loss: 0.2573 - accuracy: 0.8944 - val_loss: 0.4363 - val_accuracy: 0.8938\n",
            "Epoch 42/50\n",
            "5/5 [==============================] - 16s 3s/step - loss: 0.1377 - accuracy: 0.9558 - val_loss: 0.5681 - val_accuracy: 0.8781\n",
            "Epoch 43/50\n",
            "5/5 [==============================] - 16s 3s/step - loss: 0.2767 - accuracy: 0.9180 - val_loss: 0.4164 - val_accuracy: 0.9000\n",
            "Epoch 44/50\n",
            "5/5 [==============================] - 16s 3s/step - loss: 0.3788 - accuracy: 0.8311 - val_loss: 1.3278 - val_accuracy: 0.7937\n",
            "Epoch 45/50\n",
            "5/5 [==============================] - 16s 3s/step - loss: 0.3245 - accuracy: 0.9033 - val_loss: 0.5680 - val_accuracy: 0.8875\n",
            "Epoch 46/50\n",
            "5/5 [==============================] - 16s 4s/step - loss: 0.1955 - accuracy: 0.9116 - val_loss: 0.8789 - val_accuracy: 0.8594\n",
            "Epoch 47/50\n",
            "5/5 [==============================] - 16s 3s/step - loss: 0.2480 - accuracy: 0.9277 - val_loss: 0.6300 - val_accuracy: 0.8531\n",
            "Epoch 48/50\n",
            "5/5 [==============================] - 16s 3s/step - loss: 0.2419 - accuracy: 0.8945 - val_loss: 0.8202 - val_accuracy: 0.8500\n",
            "Epoch 49/50\n",
            "5/5 [==============================] - 16s 3s/step - loss: 0.3038 - accuracy: 0.8597 - val_loss: 0.5886 - val_accuracy: 0.8469\n",
            "Epoch 50/50\n",
            "5/5 [==============================] - 16s 3s/step - loss: 0.2387 - accuracy: 0.8957 - val_loss: 0.5226 - val_accuracy: 0.8906\n"
          ],
          "name": "stdout"
        }
      ]
    },
    {
      "cell_type": "code",
      "metadata": {
        "id": "gRX7iKoyB3D9",
        "colab": {
          "base_uri": "https://localhost:8080/",
          "height": 298
        },
        "outputId": "3fa8a57e-7f7a-40a7-880f-b53463f89256"
      },
      "source": [
        "model.save('inceptionV3-model-weights.h5')\n",
        "\n",
        "import matplotlib.pyplot as plt\n",
        "acc = history.history['accuracy']\n",
        "val_acc = history.history['val_accuracy']\n",
        "loss = history.history['loss']\n",
        "val_loss = history.history['val_loss']\n",
        "\n",
        "epochs = range(len(acc))\n",
        "\n",
        "plt.plot(epochs, acc, 'r', label='Training accuracy')\n",
        "plt.plot(epochs, val_acc, 'b', label='Validation accuracy')\n",
        "plt.title('Training and validation accuracy')\n",
        "plt.legend(loc=0)\n",
        "plt.figure()\n",
        "\n",
        "\n",
        "plt.show()"
      ],
      "execution_count": 33,
      "outputs": [
        {
          "output_type": "display_data",
          "data": {
            "image/png": "[encoded data removed]",
            "text/plain": [
              "<Figure size 432x288 with 1 Axes>"
            ]
          },
          "metadata": {
            "tags": [],
            "needs_background": "light"
          }
        },
        {
          "output_type": "display_data",
          "data": {
            "text/plain": [
              "<Figure size 432x288 with 0 Axes>"
            ]
          },
          "metadata": {
            "tags": []
          }
        }
      ]
    }
  ]
}